{
 "cells": [
  {
   "cell_type": "code",
   "execution_count": 6,
   "id": "6031f4eb",
   "metadata": {},
   "outputs": [],
   "source": [
    "import numpy as np\n",
    "import pandas as pd\n",
    "import imp\n",
    "import re\n",
    "import csv"
   ]
  },
  {
   "cell_type": "markdown",
   "id": "0972a87a",
   "metadata": {},
   "source": [
    "\n",
    "#### 1. Input the data"
   ]
  },
  {
   "cell_type": "code",
   "execution_count": 7,
   "id": "8020fbbc",
   "metadata": {},
   "outputs": [],
   "source": [
    "csvfile = open(\"cleaned_df.csv\") \n",
    "csv_data = pd.read_csv(csvfile,low_memory=False)\n",
    "csv_df = pd.DataFrame(csv_data)"
   ]
  },
  {
   "cell_type": "markdown",
   "id": "322063e8",
   "metadata": {},
   "source": [
    "#### 2. Check the items contained in each filter."
   ]
  },
  {
   "cell_type": "code",
   "execution_count": 10,
   "id": "2ae16fc7",
   "metadata": {},
   "outputs": [
    {
     "name": "stdout",
     "output_type": "stream",
     "text": [
      "['Chopper' 'Crossmotor' 'Enduro' 'Naked bike' 'Overig' 'Scooter' 'Sport'\n",
      " 'Super Sport' 'SuperMoto' 'Toermotor']\n",
      "['11 kW of minder' '12 t/m 35 kW' 'meer dan 35 kW']\n",
      "['Aprilia' 'BMW' 'Buell' 'Cagiva' 'Ducati' 'Harley-Davidson' 'Honda'\n",
      " 'Husqvarna' 'Hyosung' 'KTM' 'Kawasaki' 'MV Agusta' 'Mash' 'Moto Guzzi'\n",
      " 'Piaggio' 'Royal Enfield' 'Suzuki' 'Triumph' 'Yamaha']\n"
     ]
    }
   ],
   "source": [
    "Type_set = str(np.unique(csv_df[\"type\"]))\n",
    "Power_set = str(np.unique(csv_df[\"power\"]))\n",
    "Brand_set = str(np.unique(csv_df[\"brand\"]))\n",
    "print(Type_set)\n",
    "print(Power_set)\n",
    "print(Brand_set)"
   ]
  },
  {
   "cell_type": "markdown",
   "id": "077f0c74",
   "metadata": {},
   "source": [
    "#### 3. To get filter result with 3 itmes seperately.\n",
    "\n",
    "Customers who joined me selected these three filters:\n",
    "\n",
    "    Type = \"Super Sport\"\n",
    "    Power = \"11 kW of minder\"\n",
    "    Brand = \"Aprilia\"\n",
    "\n",
    "The products that will be screened by each of the three filters are:"
   ]
  },
  {
   "cell_type": "code",
   "execution_count": 11,
   "id": "26ebf61e",
   "metadata": {},
   "outputs": [],
   "source": [
    "Type = \"Super Sport\" \n",
    "Result_T = csv_df[csv_df['type'] == Type]\n",
    "# Result_T.head()"
   ]
  },
  {
   "cell_type": "code",
   "execution_count": 13,
   "id": "140a9420",
   "metadata": {},
   "outputs": [],
   "source": [
    "Power = \"11 kW of minder\"\n",
    "Result_P = csv_df[csv_df['power'] == Power]\n",
    "# Result_P.head()"
   ]
  },
  {
   "cell_type": "code",
   "execution_count": 14,
   "id": "3b8f10b2",
   "metadata": {},
   "outputs": [],
   "source": [
    "Brand = \"Aprilia\" \n",
    "Result_B = csv_df[csv_df['brand'] == Brand]\n",
    "# Result_B.head()"
   ]
  },
  {
   "cell_type": "markdown",
   "id": "0bb64aa0",
   "metadata": {},
   "source": [
    "#### 4(1). Get the index of our individually filtered results."
   ]
  },
  {
   "cell_type": "code",
   "execution_count": 75,
   "id": "071075ef",
   "metadata": {},
   "outputs": [
    {
     "name": "stdout",
     "output_type": "stream",
     "text": [
      "Int64Index([ 144,  160,  177,  274,  362,  431,  469,  709,  711,  712,\n",
      "            ...\n",
      "            3795, 3796, 3800, 3805, 3822, 3850, 3884, 3890, 3901, 3904],\n",
      "           dtype='int64', length=397)\n",
      "Int64Index([], dtype='int64')\n",
      "Int64Index([], dtype='int64')\n"
     ]
    }
   ],
   "source": [
    "index_T = csv_df.index[csv_df['type']==Type]\n",
    "index_P = csv_df.index[csv_df['power']==Power]\n",
    "index_B = csv_df.index[csv_df['brand']==Brand]\n",
    "print(index_T)\n",
    "print(index_P)\n",
    "print(index_B)"
   ]
  },
  {
   "cell_type": "markdown",
   "id": "689d87a2",
   "metadata": {},
   "source": [
    "#### 4(2).  Get the intersection of index in three filter criteria."
   ]
  },
  {
   "cell_type": "code",
   "execution_count": 53,
   "id": "040a92a7",
   "metadata": {},
   "outputs": [
    {
     "name": "stdout",
     "output_type": "stream",
     "text": [
      "{2279, 2216, 2251, 3694, 3667, 2230, 2262, 2264, 2267, 2205}\n"
     ]
    }
   ],
   "source": [
    "result_index = set(index_T).intersection(set(index_P),set(index_B))\n",
    "print(result_index)"
   ]
  },
  {
   "cell_type": "markdown",
   "id": "d6db4476",
   "metadata": {},
   "source": [
    "#### 4(3). Use the intersection index to location information in our dataframe."
   ]
  },
  {
   "cell_type": "code",
   "execution_count": 54,
   "id": "d1c91986",
   "metadata": {},
   "outputs": [],
   "source": [
    "result = csv_df.iloc[list(result_index)]\n",
    "# print(result)"
   ]
  },
  {
   "cell_type": "markdown",
   "id": "b400d807",
   "metadata": {},
   "source": [
    "#### 5. Try two different loop whick will be used in ou filter function.\n",
    "\n",
    "The loop is used to determine whether our client has performed a filter operation, and if so, which one, two or three of the conditions are all perfomed.\n",
    "\n",
    "I set up two similar loops, but their ideas are a little different, because our data table is relatively large, not sure which one is more efficient."
   ]
  },
  {
   "cell_type": "code",
   "execution_count": 55,
   "id": "d6cea2e2",
   "metadata": {},
   "outputs": [],
   "source": [
    "# when each of our 3 items are not empty \n",
    "# which means our customers will not perform filter operation in this filter item.\n",
    "T_not_empty = Type != None\n",
    "P_not_empty = Power != None\n",
    "B_not_empty = Brand != None\n",
    "# print(T_not_empty)"
   ]
  },
  {
   "cell_type": "code",
   "execution_count": null,
   "id": "6fccdbb4",
   "metadata": {},
   "outputs": [],
   "source": [
    "# There are 2 different loop:\n",
    "# loop 1\n",
    "if T_not_empty:\n",
    "    if P_not_empty:\n",
    "        if B_not_empty:\n",
    "            result_index = set(index_T).intersection(set(index_P),set(index_B))\n",
    "            result = dataframe.iloc[list(result_index)]\n",
    "            print(result)\n",
    "        else:\n",
    "            result_index = set(index_T).intersection(set(index_P))\n",
    "            result = dataframe.iloc[list(result_index)]\n",
    "            print(result)\n",
    "    elif B_not_empty:\n",
    "        result_index = set(index_T).intersection(set(index_B))\n",
    "        result = dataframe.iloc[list(result_index)]\n",
    "        print(result)\n",
    "    else:\n",
    "        result_index = set(index_T)\n",
    "        result = dataframe.iloc[list(result_index)]\n",
    "        print(result)\n",
    "elif P_not_empty:\n",
    "    if B_not_empty:\n",
    "        result_index = set(index_P).intersection(set(index_B))\n",
    "        result = dataframe.iloc[list(result_index)]\n",
    "        print(result)\n",
    "    else:\n",
    "        result_index = set(index_P)\n",
    "        result = dataframe.iloc[list(result_index)]\n",
    "        print(result)\n",
    "elif B_not_empty:\n",
    "    result_index = set(index_B)\n",
    "    result = dataframe.iloc[list(result_index)]\n",
    "    print(result)\n",
    "else:\n",
    "    result = csv_df\n",
    "    print(result)"
   ]
  },
  {
   "cell_type": "code",
   "execution_count": null,
   "id": "3a81430e",
   "metadata": {},
   "outputs": [],
   "source": [
    "# loop 2\n",
    "\n",
    "if T_not_empty == P_not_empty == B_not_empty:\n",
    "    result_index = set(index_T).intersection(set(index_P),set(index_B))\n",
    "    result = dataframe.iloc[list(result_index)]\n",
    "    print(result)\n",
    "elif T_not_empty == P_not_empty:\n",
    "    result_index = set(index_T).intersection(set(index_P))\n",
    "    result = dataframe.iloc[list(result_index)]\n",
    "    print(result)\n",
    "elif T_not_empty == B_not_empty:\n",
    "    result_index = set(index_T).intersection(set(index_B))\n",
    "    result = dataframe.iloc[list(result_index)]\n",
    "    print(result)\n",
    "elif P_not_empty == B_not_empty:\n",
    "    result_index = set(index_P).intersection(set(index_B))\n",
    "    result = dataframe.iloc[list(result_index)]\n",
    "    print(result)\n",
    "elif T_not_empty:\n",
    "    result_index = set(index_T)\n",
    "    result = dataframe.iloc[list(result_index)]\n",
    "    print(result) \n",
    "elif P_not_empty:\n",
    "    result_index = set(index_P)\n",
    "    result = dataframe.iloc[list(result_index)]\n",
    "    print(result)\n",
    "elif B_not_empty:\n",
    "    result_index = set(index_B)\n",
    "    result = dataframe.iloc[list(result_index)]\n",
    "    print(result)\n",
    "else:\n",
    "    result = csv_df\n",
    "    print(result)"
   ]
  },
  {
   "cell_type": "markdown",
   "id": "8e8b7b3b",
   "metadata": {},
   "source": [
    "#### 6. I define a function to show the filter function when different conditions happend.\n",
    "\n",
    "The function will be used to filter out the rows in our cleaned dataframe that match our customer's expectations.\n",
    "\n",
    "About the loops chosen, I choose the Loop 1, because I did not see any different between them."
   ]
  },
  {
   "cell_type": "code",
   "execution_count": 93,
   "id": "f4b05d4c",
   "metadata": {},
   "outputs": [],
   "source": [
    "def filter(Type,Power,Brands,dataframe):\n",
    "    T_not_empty = Type != None\n",
    "    P_not_empty = Power != None\n",
    "    B_not_empty = Brand != None\n",
    "    index_T = csv_df.index[csv_df['type']==Type]\n",
    "    index_P = csv_df.index[csv_df['power']==Power]\n",
    "    index_B = csv_df.index[csv_df['brand']==Brand]\n",
    "    if T_not_empty:\n",
    "        if P_not_empty:\n",
    "            if B_not_empty:\n",
    "                result_index = set(index_T).intersection(set(index_P),set(index_B))\n",
    "                result = dataframe.iloc[np.array(list(result_index))]\n",
    "                print(result)\n",
    "            else:\n",
    "                result_index = set(index_T).intersection(set(index_P))\n",
    "                result = dataframe.iloc[np.array(list(result_index))]\n",
    "                print(result)\n",
    "        elif B_not_empty:\n",
    "            result_index = set(index_T).intersection(set(index_B))\n",
    "            result = dataframe.iloc[np.array(list(result_index))]\n",
    "            print(result)\n",
    "        else:\n",
    "            result_index = set(index_T)\n",
    "            result = dataframe.iloc[np.array(list(result_index))]\n",
    "            print(result)\n",
    "    elif P_not_empty:\n",
    "        if B_not_empty:\n",
    "            result_index = set(index_P).intersection(set(index_B))\n",
    "            result = dataframe.iloc[np.array(list(result_index))]\n",
    "            print(result)\n",
    "        else:\n",
    "            result_index = set(index_P)\n",
    "            result = dataframe.iloc[np.array(list(result_index))]\n",
    "            print(result)\n",
    "    elif B_not_empty:\n",
    "        result_index = set(index_B)\n",
    "        result = dataframe.iloc[np.array(list(result_index))]\n",
    "        print(result)\n",
    "    else:\n",
    "        result = csv_df\n",
    "        print(result)\n",
    "\n",
    "    # dose thos code make any sense? we can discuss. "
   ]
  },
  {
   "cell_type": "markdown",
   "id": "a72ce66c",
   "metadata": {},
   "source": [
    "#### 7. Try filter funciton."
   ]
  },
  {
   "cell_type": "code",
   "execution_count": null,
   "id": "82941476",
   "metadata": {},
   "outputs": [],
   "source": [
    "# Try if only one item be chose to filter.\n",
    "# Try only to filter power.\n",
    "Type = None\n",
    "Power = \"meer dan 35 kW\"\n",
    "Brand = None\n",
    "filter(Type,Power,Brand,csv_df)"
   ]
  },
  {
   "cell_type": "code",
   "execution_count": null,
   "id": "9270dbd0",
   "metadata": {},
   "outputs": [],
   "source": [
    "# Try only filter type\n",
    "Type = \"Chopper\"\n",
    "Power = None\n",
    "Brand = None\n",
    "filter(Type,Power,Brand,csv_df)"
   ]
  },
  {
   "cell_type": "code",
   "execution_count": null,
   "id": "6ea5241e",
   "metadata": {},
   "outputs": [],
   "source": [
    "# Try if our clients use 2 items be chose to filter.\n",
    "# Try to filter type and power.\n",
    "Type = \"Chopper\"\n",
    "Power = \"meer dan 35 kW\"\n",
    "Brand = None\n",
    "filter(Type,Power,Brand,csv_df)"
   ]
  },
  {
   "cell_type": "code",
   "execution_count": null,
   "id": "ed5f5514",
   "metadata": {},
   "outputs": [],
   "source": [
    "# Try if our clients use all items to filter.\n",
    "Type = \"Chopper\"\n",
    "Power = \"meer dan 35 kW\"\n",
    "Brand = \"BMW\"\n",
    "filter(Type,Power,Brand,csv_df)"
   ]
  },
  {
   "cell_type": "code",
   "execution_count": null,
   "id": "d3e55af0",
   "metadata": {},
   "outputs": [],
   "source": [
    "# Try if our clients use all items to filter.\n",
    "Type = None\n",
    "Power = None\n",
    "Brand = None\n",
    "filter(Type,Power,Brand,csv_df)"
   ]
  },
  {
   "cell_type": "code",
   "execution_count": null,
   "id": "61da6b44",
   "metadata": {},
   "outputs": [],
   "source": [
    "# compare the rows nmber with our origin dataframe. \n",
    "len(csv_df)"
   ]
  }
 ],
 "metadata": {
  "kernelspec": {
   "display_name": "Python 3 (ipykernel)",
   "language": "python",
   "name": "python3"
  },
  "language_info": {
   "codemirror_mode": {
    "name": "ipython",
    "version": 3
   },
   "file_extension": ".py",
   "mimetype": "text/x-python",
   "name": "python",
   "nbconvert_exporter": "python",
   "pygments_lexer": "ipython3",
   "version": "3.9.7"
  }
 },
 "nbformat": 4,
 "nbformat_minor": 5
}
