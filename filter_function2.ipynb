{
 "cells": [
  {
   "cell_type": "code",
   "execution_count": 13,
   "id": "6031f4eb",
   "metadata": {},
   "outputs": [],
   "source": [
    "import numpy as np\n",
    "import pandas as pd\n",
    "import imp\n",
    "import re\n",
    "import csv"
   ]
  },
  {
   "cell_type": "code",
   "execution_count": 3,
   "id": "8020fbbc",
   "metadata": {},
   "outputs": [],
   "source": [
    "csvfile = open(\"cleaned_df.csv\") \n",
    "csv_data = pd.read_csv(csvfile,low_memory=False)\n",
    "csv_df = pd.DataFrame(csv_data)"
   ]
  },
  {
   "cell_type": "code",
   "execution_count": 81,
   "id": "2ae16fc7",
   "metadata": {},
   "outputs": [
    {
     "name": "stdout",
     "output_type": "stream",
     "text": [
      "['Chopper' 'Crossmotor' 'Enduro' 'Naked bike' 'Overig' 'Scooter' 'Sport'\n",
      " 'Super Sport' 'SuperMoto' 'Toermotor']\n",
      "['11 kW of minder' '12 t/m 35 kW' 'meer dan 35 kW']\n",
      "['Aprilia' 'BMW' 'Buell' 'Cagiva' 'Ducati' 'Harley-Davidson' 'Honda'\n",
      " 'Husqvarna' 'Hyosung' 'KTM' 'Kawasaki' 'MV Agusta' 'Mash' 'Moto Guzzi'\n",
      " 'Piaggio' 'Royal Enfield' 'Suzuki' 'Triumph' 'Yamaha']\n"
     ]
    }
   ],
   "source": [
    "Type_set = str(np.unique(csv_df[\"type\"]))\n",
    "Power_set = str(np.unique(csv_df[\"power\"]))\n",
    "Brand_set = str(np.unique(csv_df[\"brand\"]))\n",
    "print(Type_set)\n",
    "print(Power_set)\n",
    "print(Brand_set)"
   ]
  },
  {
   "cell_type": "code",
   "execution_count": 178,
   "id": "26ebf61e",
   "metadata": {},
   "outputs": [],
   "source": [
    "Type = \"Super Sport\" \n",
    "Result_T = csv_df[csv_df['type'] == Type]\n",
    "# Result_T.head()"
   ]
  },
  {
   "cell_type": "code",
   "execution_count": 177,
   "id": "1d94ea4b",
   "metadata": {},
   "outputs": [],
   "source": [
    "index_T = Result_T.index.tolist()\n",
    "# print(index_T)"
   ]
  },
  {
   "cell_type": "code",
   "execution_count": 175,
   "id": "140a9420",
   "metadata": {},
   "outputs": [],
   "source": [
    "Power = \"11 kW of minder\"\n",
    "Result_P = csv_df[csv_df['power'] == Power]\n",
    "# Result_P.head()"
   ]
  },
  {
   "cell_type": "code",
   "execution_count": 176,
   "id": "3b8f10b2",
   "metadata": {},
   "outputs": [],
   "source": [
    "Brand = \"Aprilia\" \n",
    "Result_B = csv_df[csv_df['brand'] == Brand]\n",
    "# Result_B.head()"
   ]
  },
  {
   "cell_type": "code",
   "execution_count": 173,
   "id": "071075ef",
   "metadata": {},
   "outputs": [],
   "source": [
    "index_T = Result_T.index.values\n",
    "index_P = Result_P.index.values\n",
    "index_B = Result_B.index.values\n",
    "# print(index_T)\n",
    "# print(index_P)\n",
    "# print(index_B)"
   ]
  },
  {
   "cell_type": "code",
   "execution_count": 168,
   "id": "040a92a7",
   "metadata": {},
   "outputs": [
    {
     "name": "stdout",
     "output_type": "stream",
     "text": [
      "{2, 3818, 6, 39}\n"
     ]
    }
   ],
   "source": [
    "result_index = set(index_T).intersection(set(index_P),set(index_B))\n",
    "print(result_index)"
   ]
  },
  {
   "cell_type": "code",
   "execution_count": 174,
   "id": "d1c91986",
   "metadata": {},
   "outputs": [],
   "source": [
    "result = csv_df.iloc[list(result_index)]\n",
    "# print(result)"
   ]
  },
  {
   "cell_type": "code",
   "execution_count": 87,
   "id": "051c33bb",
   "metadata": {},
   "outputs": [],
   "source": [
    "# There are two loop following, please help me choose a better one."
   ]
  },
  {
   "cell_type": "code",
   "execution_count": 185,
   "id": "ac1dd8ea",
   "metadata": {},
   "outputs": [
    {
     "name": "stdout",
     "output_type": "stream",
     "text": [
      "                                       id  price_eur    brand   advertiser  \\\n",
      "2     https://www.2dehands.be/m1829893139     350000  Aprilia  Particulier   \n",
      "3818  https://www.2dehands.be/m1830333989     250000  Aprilia  Particulier   \n",
      "6     https://www.2dehands.be/m1829065957     380000  Aprilia  Particulier   \n",
      "39    https://www.2dehands.be/m1798667863     375000  Aprilia  Particulier   \n",
      "\n",
      "      viewed  liked                    posted  \\\n",
      "2         77      1  sinds 10 apr. '22, 00:09   \n",
      "3818     150      8  sinds 11 apr. '22, 08:58   \n",
      "6        144      4   sinds 7 apr. '22, 19:59   \n",
      "39      1718     43  sinds 18 jan. '22, 11:31   \n",
      "\n",
      "                                     title  \\\n",
      "2                           Aprilia RS 125   \n",
      "3818    Aprilia rs125  11kw auto rijbewijs   \n",
      "6            Aprilia RS4  125cc GP replica   \n",
      "39    aprilia rs125, 32PK (11kw op papier)   \n",
      "\n",
      "                                            description extracted_on  ...  \\\n",
      "2     Aprilia rs 125 tekoop.Bwjr 2006.Italkit 140ccD...   2022-04-11  ...   \n",
      "3818  Aprilia rs125 11kw 2taktMaar full power met po...   2022-04-13  ...   \n",
      "6     Mooie originele aprilia replica met slechts 22...   2022-04-11  ...   \n",
      "39    bouwjaar 2007 en hetframe heeft 8006Km.motorbl...   2022-04-11  ...   \n",
      "\n",
      "                power construction_year cylinders       km     cc warranty  \\\n",
      "2     11 kW of minder        2006-01-01       1.0  39000.0  125.0      NaN   \n",
      "3818  11 kW of minder        2001-01-01       1.0  29000.0  125.0      NaN   \n",
      "6     11 kW of minder        2018-01-01       1.0   2260.0  125.0      NaN   \n",
      "39    11 kW of minder        2007-01-01       1.0   8004.0  140.0      NaN   \n",
      "\n",
      "      Kenteken  Artikelnummer  advertiser_binary date_posted  \n",
      "2          NaN            NaN                  1  10/04/2022  \n",
      "3818       NaN            NaN                  1  11/04/2022  \n",
      "6          NaN            NaN                  1  07/04/2022  \n",
      "39         NaN            NaN                  1  18/01/2022  \n",
      "\n",
      "[4 rows x 24 columns]\n"
     ]
    }
   ],
   "source": [
    "# loop 1\n",
    "if Type != None:\n",
    "    if  Power != None:\n",
    "        if Brand !=None:\n",
    "            result_index = set(index_T).intersection(set(index_P),set(index_B))\n",
    "            result = csv_df.iloc[list(result_index)]\n",
    "            print(result)\n",
    "        else:\n",
    "            result_index = set(index_T).intersection(set(index_P))\n",
    "            result = csv_df.iloc[list(result_index)]\n",
    "            print(result)\n",
    "    elif Brand != None:\n",
    "        result_index = set(index_T).intersection(set(index_B))\n",
    "        result = csv_df.iloc[list(result_index)]\n",
    "        print(result)\n",
    "    else:\n",
    "        result_index = set(index_T)\n",
    "        result = csv_df.iloc[list(result_index)]\n",
    "        print(result)\n",
    "elif Power != None:\n",
    "    if Brand != None:\n",
    "        result_index = set(index_P).intersection(set(index_B))\n",
    "        result = csv_df.iloc[list(result_index)]\n",
    "        print(result)\n",
    "    else:\n",
    "        result_index = set(index_P)\n",
    "        result = csv_df.iloc[list(result_index)]\n",
    "        print(result)\n",
    "elif Brand != None:\n",
    "    result_index = set(index_B)\n",
    "    result = csv_df.iloc[list(result_index)]\n",
    "    print(result)\n",
    "else:\n",
    "    result = csv_df\n",
    "    print(result)\n",
    "\n"
   ]
  },
  {
   "cell_type": "code",
   "execution_count": 205,
   "id": "6334a056",
   "metadata": {},
   "outputs": [],
   "source": [
    "T_not_empty = Type != None\n",
    "P_not_empty = Power != None\n",
    "B_not_empty = Brand != None\n",
    "# print(a)"
   ]
  },
  {
   "cell_type": "code",
   "execution_count": 206,
   "id": "05f8bd23",
   "metadata": {},
   "outputs": [
    {
     "name": "stdout",
     "output_type": "stream",
     "text": [
      "                                       id  price_eur    brand   advertiser  \\\n",
      "2     https://www.2dehands.be/m1829893139     350000  Aprilia  Particulier   \n",
      "3818  https://www.2dehands.be/m1830333989     250000  Aprilia  Particulier   \n",
      "6     https://www.2dehands.be/m1829065957     380000  Aprilia  Particulier   \n",
      "39    https://www.2dehands.be/m1798667863     375000  Aprilia  Particulier   \n",
      "\n",
      "      viewed  liked                    posted  \\\n",
      "2         77      1  sinds 10 apr. '22, 00:09   \n",
      "3818     150      8  sinds 11 apr. '22, 08:58   \n",
      "6        144      4   sinds 7 apr. '22, 19:59   \n",
      "39      1718     43  sinds 18 jan. '22, 11:31   \n",
      "\n",
      "                                     title  \\\n",
      "2                           Aprilia RS 125   \n",
      "3818    Aprilia rs125  11kw auto rijbewijs   \n",
      "6            Aprilia RS4  125cc GP replica   \n",
      "39    aprilia rs125, 32PK (11kw op papier)   \n",
      "\n",
      "                                            description extracted_on  ...  \\\n",
      "2     Aprilia rs 125 tekoop.Bwjr 2006.Italkit 140ccD...   2022-04-11  ...   \n",
      "3818  Aprilia rs125 11kw 2taktMaar full power met po...   2022-04-13  ...   \n",
      "6     Mooie originele aprilia replica met slechts 22...   2022-04-11  ...   \n",
      "39    bouwjaar 2007 en hetframe heeft 8006Km.motorbl...   2022-04-11  ...   \n",
      "\n",
      "                power construction_year cylinders       km     cc warranty  \\\n",
      "2     11 kW of minder        2006-01-01       1.0  39000.0  125.0      NaN   \n",
      "3818  11 kW of minder        2001-01-01       1.0  29000.0  125.0      NaN   \n",
      "6     11 kW of minder        2018-01-01       1.0   2260.0  125.0      NaN   \n",
      "39    11 kW of minder        2007-01-01       1.0   8004.0  140.0      NaN   \n",
      "\n",
      "      Kenteken  Artikelnummer  advertiser_binary date_posted  \n",
      "2          NaN            NaN                  1  10/04/2022  \n",
      "3818       NaN            NaN                  1  11/04/2022  \n",
      "6          NaN            NaN                  1  07/04/2022  \n",
      "39         NaN            NaN                  1  18/01/2022  \n",
      "\n",
      "[4 rows x 24 columns]\n"
     ]
    }
   ],
   "source": [
    "# loop 2\n",
    "\n",
    "if T_not_empty == P_not_empty == B_not_empty:\n",
    "    result_index = set(index_T).intersection(set(index_P),set(index_B))\n",
    "    result = csv_df.iloc[list(result_index)]\n",
    "    print(result)\n",
    "elif T_not_empty == P_not_empty:\n",
    "    result_index = set(index_T).intersection(set(index_P))\n",
    "    result = csv_df.iloc[list(result_index)]\n",
    "    print(result)\n",
    "elif T_not_empty == B_not_empty:\n",
    "    result_index = set(index_T).intersection(set(index_B))\n",
    "    result = csv_df.iloc[list(result_index)]\n",
    "    print(result)\n",
    "elif P_not_empty == B_not_empty:\n",
    "    result_index = set(index_P).intersection(set(index_B))\n",
    "    result = csv_df.iloc[list(result_index)]\n",
    "    print(result)\n",
    "elif T_not_empty:\n",
    "    result_index = set(index_T)\n",
    "    result = csv_df.iloc[list(result_index)]\n",
    "    print(result) \n",
    "elif P_not_empty:\n",
    "    result_index = set(index_P)\n",
    "    result = csv_df.iloc[list(result_index)]\n",
    "    print(result)\n",
    "elif B_not_empty:\n",
    "    result_index = set(index_B)\n",
    "    result = csv_df.iloc[list(result_index)]\n",
    "    print(result)\n",
    "else:\n",
    "    result = csv_df\n",
    "    print(result)\n"
   ]
  },
  {
   "cell_type": "code",
   "execution_count": null,
   "id": "24dd43f0",
   "metadata": {},
   "outputs": [],
   "source": [
    "def filter(Type,Power,Brands,dataframe):\n",
    "    loop 1 or loop 2\n",
    "    return(result)\n",
    "# dose thos code make any sense? we can discuss. "
   ]
  }
 ],
 "metadata": {
  "kernelspec": {
   "display_name": "Python 3 (ipykernel)",
   "language": "python",
   "name": "python3"
  },
  "language_info": {
   "codemirror_mode": {
    "name": "ipython",
    "version": 3
   },
   "file_extension": ".py",
   "mimetype": "text/x-python",
   "name": "python",
   "nbconvert_exporter": "python",
   "pygments_lexer": "ipython3",
   "version": "3.9.7"
  }
 },
 "nbformat": 4,
 "nbformat_minor": 5
}
