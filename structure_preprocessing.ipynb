{
 "cells": [
  {
   "cell_type": "markdown",
   "id": "e39bec62-5107-4314-93d4-f8289d41e338",
   "metadata": {},
   "source": [
    "<h1> 1) Load Merged Dataset </h1>\n",
    "Here we load the merged dataframe and continue to work on it."
   ]
  },
  {
   "cell_type": "code",
   "execution_count": 1,
   "id": "806021c9-ec89-4e2c-8aa4-0d28a9f35baa",
   "metadata": {},
   "outputs": [],
   "source": [
    "import pandas as pd\n",
    "import numpy as np\n",
    "import datetime\n",
    "df = pd.read_csv('database_moto_updated.csv')"
   ]
  },
  {
   "cell_type": "code",
   "execution_count": 2,
   "id": "8c897d45-08b3-4ab1-a7b8-c52004479482",
   "metadata": {},
   "outputs": [],
   "source": [
    "# Translating the variables (from Dutch to English) and making it easier to work with\n",
    "df.rename(columns = {'Adverteerder':'advertiser',\n",
    "                    'Type motor' : 'type',\n",
    "                    'Motorvermogen (kW)': 'power',\n",
    "                    'Bouwjaar': 'construction_year',\n",
    "                    'Aantal Cilinders':'cylinders',\n",
    "                    'Kilometerstand':'km',\n",
    "                    'Motorinhoud':'cc',\n",
    "                    'Garantie' : 'warranty'}, inplace=True)"
   ]
  },
  {
   "cell_type": "code",
   "execution_count": 3,
   "id": "415bcb31-fd6c-495b-bd61-e45222ec2b48",
   "metadata": {},
   "outputs": [],
   "source": [
    "# handle exception\n",
    "df = df[df['id'] != 'https://www.2dehands.be/m1812670567']"
   ]
  },
  {
   "cell_type": "markdown",
   "id": "52e1e24c-0471-4fb1-952f-d3f556f01c80",
   "metadata": {},
   "source": [
    "<h1> 2) Data Cleaning </h1>\n",
    "In this section, we inspect variables individually and apply preprocessing techniques according to our needs."
   ]
  },
  {
   "cell_type": "markdown",
   "id": "66603c41-19c9-4503-8f5f-355af04db47b",
   "metadata": {},
   "source": [
    "<h2> 2.1) Detecting and Dealing with Missing Values </h2>\n",
    "<p> Detecting and treating missing values is a key aspect in the project pipeline. There are quite numerous ways to treat missing values such as remove, replace(ex. imputation), and keep & codify. However, for this project it is decided to opt for the quick & dirty approach, namely remove the missing values. </p>\n",
    "\n",
    "<p> Keep only rows where km, construction_year, power ,and type are not null and check the result. We see that we still have missing values for 'cc' and for 'cylinders'. In most case, the power of the motorcycle is  positively correlated with the cc and cylinders. It also turns out we won't need the variable cylinders in the next notebooks. </p>\n"
   ]
  },
  {
   "cell_type": "code",
   "execution_count": 4,
   "id": "20bc6321-6073-4dd0-80cf-40c064dfcc4f",
   "metadata": {},
   "outputs": [
    {
     "name": "stdout",
     "output_type": "stream",
     "text": [
      "id                       0\n",
      "price_eur                0\n",
      "brand                    0\n",
      "advertiser              14\n",
      "viewed                   0\n",
      "liked                    0\n",
      "posted                   0\n",
      "title                    0\n",
      "description              0\n",
      "extracted_on             0\n",
      "location                 0\n",
      "seller_name              0\n",
      "images                   0\n",
      "type                  4524\n",
      "power                 6856\n",
      "construction_year     4511\n",
      "cylinders             5268\n",
      "km                    5187\n",
      "cc                    5018\n",
      "warranty             12202\n",
      "Kenteken             14119\n",
      "Artikelnummer        14107\n",
      "dtype: int64\n",
      "Our Pandas DataFrame has now a shape of (6438, 22)\n",
      "id                      0\n",
      "price_eur               0\n",
      "brand                   0\n",
      "advertiser              0\n",
      "viewed                  0\n",
      "liked                   0\n",
      "posted                  0\n",
      "title                   0\n",
      "description             0\n",
      "extracted_on            0\n",
      "location                0\n",
      "seller_name             0\n",
      "images                  0\n",
      "type                    0\n",
      "power                   0\n",
      "construction_year       0\n",
      "cylinders             658\n",
      "km                      0\n",
      "cc                    107\n",
      "warranty             4851\n",
      "Kenteken             6438\n",
      "Artikelnummer        6438\n",
      "dtype: int64\n"
     ]
    }
   ],
   "source": [
    "\n",
    "# Using this code we are able to detect the quantity of NaN for each variable.\n",
    "print(df.isnull().sum())\n",
    "\n",
    "\n",
    "df = df[df[\"km\"].notnull() & df[\"construction_year\"].notnull()&\n",
    "         df[\"type\"].notnull()& df[\"power\"].notnull()]\n",
    "print('Our Pandas DataFrame has now a shape of ' + str(df.shape))\n",
    "print(df.isnull().sum())"
   ]
  },
  {
   "cell_type": "markdown",
   "id": "11d6ecd5-9c06-4af1-8c16-04817d707e76",
   "metadata": {},
   "source": [
    "<h2> 2.3) Data Types </h2>\n",
    "<p> In this subsection, we check the data type of the various extracted variables.\n",
    "    Then, we divide the variables into the different data types and do some additional preprocessing.  </p>\n",
    "    \n",
    "<p> We notice that some variables do not have the expected data type (such as price_eur is an object instead of a numerical variable). This requires some data preprocessing. </p>"
   ]
  },
  {
   "cell_type": "code",
   "execution_count": 5,
   "id": "1448dd61-54d6-4d5b-8644-c9c85d5dc26f",
   "metadata": {},
   "outputs": [
    {
     "data": {
      "text/plain": [
       "id                    object\n",
       "price_eur             object\n",
       "brand                 object\n",
       "advertiser            object\n",
       "viewed                 int64\n",
       "liked                  int64\n",
       "posted                object\n",
       "title                 object\n",
       "description           object\n",
       "extracted_on          object\n",
       "location              object\n",
       "seller_name           object\n",
       "images                object\n",
       "type                  object\n",
       "power                 object\n",
       "construction_year    float64\n",
       "cylinders            float64\n",
       "km                   float64\n",
       "cc                   float64\n",
       "warranty              object\n",
       "Kenteken              object\n",
       "Artikelnummer        float64\n",
       "dtype: object"
      ]
     },
     "execution_count": 5,
     "metadata": {},
     "output_type": "execute_result"
    }
   ],
   "source": [
    "df.dtypes"
   ]
  },
  {
   "cell_type": "markdown",
   "id": "8a868bac-c39e-4141-bff4-67afa204de9e",
   "metadata": {},
   "source": [
    "<h3> 2.3.1) Continuous variables </h3>\n",
    "km, cc, views, saved, price.\n",
    "<p> Change the data type of views and saved from float to integer. </p> \n",
    "<p> The price is given in eurocents, but it is easier to interpret it in euro. </p>"
   ]
  },
  {
   "cell_type": "code",
   "execution_count": 6,
   "id": "67befa4c-a727-4961-a4bf-19aeb980d341",
   "metadata": {},
   "outputs": [],
   "source": [
    "df['viewed'] = df['viewed'].astype('int')"
   ]
  },
  {
   "cell_type": "code",
   "execution_count": 7,
   "id": "9ac9c8bb-be3b-4bb8-a7c5-44e34de9cffa",
   "metadata": {},
   "outputs": [],
   "source": [
    "df['liked'] = df['liked'].astype('int')"
   ]
  },
  {
   "cell_type": "code",
   "execution_count": 8,
   "id": "26e52577-84d3-4099-adac-cc85f4efe8fc",
   "metadata": {},
   "outputs": [],
   "source": [
    "df = df.replace(['Gereserveerd','Notk','Bieden', 'Zie omschrijving', 'Ruilen','Op aanvraag','Gratis'], np.nan)"
   ]
  },
  {
   "cell_type": "code",
   "execution_count": 9,
   "id": "68fe1828-e38e-4df0-ba47-d86600ff950f",
   "metadata": {
    "tags": []
   },
   "outputs": [],
   "source": [
    "df.dropna(subset = ['price_eur'], inplace=True)"
   ]
  },
  {
   "cell_type": "code",
   "execution_count": 10,
   "id": "ff246f4e-39f5-4814-b80a-57cf5fbf461a",
   "metadata": {
    "tags": []
   },
   "outputs": [],
   "source": [
    "df['price_eur'] = df['price_eur'].astype('int')"
   ]
  },
  {
   "cell_type": "markdown",
   "id": "15b18334-4677-4827-b9fc-cf808704d31e",
   "metadata": {},
   "source": [
    "<h3> 2.3.2) Categorical variables </h3>\n",
    "adverteerder, type, brand, power, cylinders\n",
    "<p> We explicitly define the following variables into category. After, some binary values are converted into 1 and 0. </p>"
   ]
  },
  {
   "cell_type": "code",
   "execution_count": 11,
   "id": "56f655ec-3a93-41c2-86b7-2f9fdbebec4a",
   "metadata": {},
   "outputs": [],
   "source": [
    "# These are category values\n",
    "df[\"type\"] = df[\"type\"].astype('category')\n",
    "df[\"brand\"] = df[\"brand\"].astype('category')\n",
    "df[\"power\"] = df[\"power\"].astype('category')"
   ]
  },
  {
   "cell_type": "code",
   "execution_count": 12,
   "id": "d6cd6bea-4c28-4927-8449-2624d6216b7e",
   "metadata": {},
   "outputs": [],
   "source": [
    "# Encoding binary variables\n",
    "df['advertiser_binary'] = df['advertiser'].apply(lambda i: 1 if i == \"Particulier\" else 0)\n"
   ]
  },
  {
   "cell_type": "markdown",
   "id": "66573177-4ee4-426f-94c1-5dc4c4184dd5",
   "metadata": {},
   "source": [
    "<h3> 2.3.3) Time dimensions </h3>\n",
    "<p> construction_year, date, user active </p>\n",
    "<p> The datetime objects were saved as strings, however it is preferable to have them as datetime objects. Therefore, we convert the strings into datetime. </p>"
   ]
  },
  {
   "cell_type": "code",
   "execution_count": 13,
   "id": "c18a122a-b323-41d9-b48f-a91ae4b10807",
   "metadata": {},
   "outputs": [
    {
     "name": "stdout",
     "output_type": "stream",
     "text": [
      "<class 'datetime.date'>\n"
     ]
    }
   ],
   "source": [
    "df['construction_year'] = df['construction_year'].apply(lambda i: datetime.date(int(i),1,1))\n",
    "print(type(df['construction_year'].iloc[0]))"
   ]
  },
  {
   "cell_type": "code",
   "execution_count": 14,
   "id": "e00ec897-e4c4-45d5-893e-e0fe61aef31f",
   "metadata": {},
   "outputs": [],
   "source": [
    "list_new_date = []\n",
    "for j in range(0,len(df)):\n",
    "    word = df['posted'].iloc[j]\n",
    "    word = word.replace('jan.','January')\n",
    "    word = word.replace('feb.','February')\n",
    "    word = word.replace('mar.', 'March')\n",
    "    word = word.replace('apr.', 'April')\n",
    "    word = word.replace('mei.','May')\n",
    "    word = word.replace('jun.', 'June')\n",
    "    word = word.replace('jul.', 'July')\n",
    "    word = word.replace('aug.', 'August')\n",
    "    word = word.replace('sep.', 'September')\n",
    "    word = word.replace('okt.', 'October')\n",
    "    word = word.replace('nov.', 'November')\n",
    "    word = word.replace('dec.', 'December')\n",
    "    transformed  = word.replace('sinds ','')\n",
    "    date = datetime.datetime.strptime(transformed, \"%d %B '%y, %H:%S\").strftime('%d/%m/%Y')\n",
    "    list_new_date.append(date)"
   ]
  },
  {
   "cell_type": "code",
   "execution_count": 15,
   "id": "000a4833-e5b7-415a-91a8-7be8a12e31a8",
   "metadata": {},
   "outputs": [],
   "source": [
    "df['date_posted'] = list_new_date"
   ]
  },
  {
   "cell_type": "markdown",
   "id": "9055ce66-480b-4c4f-8f11-c4d7b670815e",
   "metadata": {},
   "source": [
    "<h3> 2.3.4) Unstructered Data (Text) </h3>\n",
    "In our dataset we have two text variables:\n",
    "<li> Title </li>\n",
    "<li> Description </li>\n",
    "<p> Both variables contain many unnecessary words, punctuations and so on. We will try to remove the most important things in this section. </p>"
   ]
  },
  {
   "cell_type": "code",
   "execution_count": null,
   "id": "8809c730-e9df-4652-9a1c-2c988c8748d7",
   "metadata": {},
   "outputs": [],
   "source": []
  },
  {
   "cell_type": "markdown",
   "id": "58b0321d-976d-4192-ac29-19378c1d6ad6",
   "metadata": {
    "tags": []
   },
   "source": [
    "<h2> 2.4) Detecting Outliers </h2>\n",
    "<p> It is necessary to treat outliers to avoid disproportional impact on results. Outliers can be either valid or invalid. In this case, the outliers are often caused by human error, and thus difficult to retrieve the true value. The individual placing the advertisement can make a mistake when introducing the values into the webpage. For example, the amount of kilometers for the given motorcycles could have an extra 0 or the user has put a 9 or 1 in front. Some users introduce the incorrect information on purpose, ex. 12345678. To treat each specific case requires an enormeous amount of effort, and the benefit is quite small. Therefore, it is decided to remove the outliers, and thus treat them as missing values. "
   ]
  },
  {
   "cell_type": "code",
   "execution_count": 16,
   "id": "5a72e7fb-a1af-41db-a294-b699485329c6",
   "metadata": {},
   "outputs": [
    {
     "data": {
      "text/html": [
       "<div>\n",
       "<style scoped>\n",
       "    .dataframe tbody tr th:only-of-type {\n",
       "        vertical-align: middle;\n",
       "    }\n",
       "\n",
       "    .dataframe tbody tr th {\n",
       "        vertical-align: top;\n",
       "    }\n",
       "\n",
       "    .dataframe thead th {\n",
       "        text-align: right;\n",
       "    }\n",
       "</style>\n",
       "<table border=\"1\" class=\"dataframe\">\n",
       "  <thead>\n",
       "    <tr style=\"text-align: right;\">\n",
       "      <th></th>\n",
       "      <th>price_eur</th>\n",
       "      <th>viewed</th>\n",
       "      <th>liked</th>\n",
       "      <th>cylinders</th>\n",
       "      <th>km</th>\n",
       "      <th>cc</th>\n",
       "      <th>Kenteken</th>\n",
       "      <th>Artikelnummer</th>\n",
       "      <th>advertiser_binary</th>\n",
       "    </tr>\n",
       "  </thead>\n",
       "  <tbody>\n",
       "    <tr>\n",
       "      <th>count</th>\n",
       "      <td>5.909000e+03</td>\n",
       "      <td>5909.000</td>\n",
       "      <td>5909.000</td>\n",
       "      <td>5285.000</td>\n",
       "      <td>5909.000</td>\n",
       "      <td>5809.000</td>\n",
       "      <td>0.0</td>\n",
       "      <td>0.0</td>\n",
       "      <td>5909.000</td>\n",
       "    </tr>\n",
       "    <tr>\n",
       "      <th>mean</th>\n",
       "      <td>6.939512e+05</td>\n",
       "      <td>626.682</td>\n",
       "      <td>8.598</td>\n",
       "      <td>2.339</td>\n",
       "      <td>27142.137</td>\n",
       "      <td>816.612</td>\n",
       "      <td>NaN</td>\n",
       "      <td>NaN</td>\n",
       "      <td>0.563</td>\n",
       "    </tr>\n",
       "    <tr>\n",
       "      <th>std</th>\n",
       "      <td>5.627057e+05</td>\n",
       "      <td>886.240</td>\n",
       "      <td>10.031</td>\n",
       "      <td>1.094</td>\n",
       "      <td>30873.273</td>\n",
       "      <td>449.744</td>\n",
       "      <td>NaN</td>\n",
       "      <td>NaN</td>\n",
       "      <td>0.496</td>\n",
       "    </tr>\n",
       "    <tr>\n",
       "      <th>min</th>\n",
       "      <td>0.000000e+00</td>\n",
       "      <td>0.000</td>\n",
       "      <td>0.000</td>\n",
       "      <td>1.000</td>\n",
       "      <td>0.000</td>\n",
       "      <td>4.000</td>\n",
       "      <td>NaN</td>\n",
       "      <td>NaN</td>\n",
       "      <td>0.000</td>\n",
       "    </tr>\n",
       "    <tr>\n",
       "      <th>25%</th>\n",
       "      <td>3.250000e+05</td>\n",
       "      <td>131.000</td>\n",
       "      <td>2.000</td>\n",
       "      <td>2.000</td>\n",
       "      <td>6500.000</td>\n",
       "      <td>583.000</td>\n",
       "      <td>NaN</td>\n",
       "      <td>NaN</td>\n",
       "      <td>0.000</td>\n",
       "    </tr>\n",
       "    <tr>\n",
       "      <th>50%</th>\n",
       "      <td>5.500000e+05</td>\n",
       "      <td>321.000</td>\n",
       "      <td>6.000</td>\n",
       "      <td>2.000</td>\n",
       "      <td>20000.000</td>\n",
       "      <td>800.000</td>\n",
       "      <td>NaN</td>\n",
       "      <td>NaN</td>\n",
       "      <td>1.000</td>\n",
       "    </tr>\n",
       "    <tr>\n",
       "      <th>75%</th>\n",
       "      <td>9.000000e+05</td>\n",
       "      <td>739.000</td>\n",
       "      <td>11.000</td>\n",
       "      <td>4.000</td>\n",
       "      <td>39220.000</td>\n",
       "      <td>1150.000</td>\n",
       "      <td>NaN</td>\n",
       "      <td>NaN</td>\n",
       "      <td>1.000</td>\n",
       "    </tr>\n",
       "    <tr>\n",
       "      <th>max</th>\n",
       "      <td>1.234560e+07</td>\n",
       "      <td>10404.000</td>\n",
       "      <td>97.000</td>\n",
       "      <td>4.000</td>\n",
       "      <td>999999.000</td>\n",
       "      <td>6540.000</td>\n",
       "      <td>NaN</td>\n",
       "      <td>NaN</td>\n",
       "      <td>1.000</td>\n",
       "    </tr>\n",
       "  </tbody>\n",
       "</table>\n",
       "</div>"
      ],
      "text/plain": [
       "          price_eur     viewed     liked  cylinders          km        cc  \\\n",
       "count  5.909000e+03   5909.000  5909.000   5285.000    5909.000  5809.000   \n",
       "mean   6.939512e+05    626.682     8.598      2.339   27142.137   816.612   \n",
       "std    5.627057e+05    886.240    10.031      1.094   30873.273   449.744   \n",
       "min    0.000000e+00      0.000     0.000      1.000       0.000     4.000   \n",
       "25%    3.250000e+05    131.000     2.000      2.000    6500.000   583.000   \n",
       "50%    5.500000e+05    321.000     6.000      2.000   20000.000   800.000   \n",
       "75%    9.000000e+05    739.000    11.000      4.000   39220.000  1150.000   \n",
       "max    1.234560e+07  10404.000    97.000      4.000  999999.000  6540.000   \n",
       "\n",
       "       Kenteken  Artikelnummer  advertiser_binary  \n",
       "count       0.0            0.0           5909.000  \n",
       "mean        NaN            NaN              0.563  \n",
       "std         NaN            NaN              0.496  \n",
       "min         NaN            NaN              0.000  \n",
       "25%         NaN            NaN              0.000  \n",
       "50%         NaN            NaN              1.000  \n",
       "75%         NaN            NaN              1.000  \n",
       "max         NaN            NaN              1.000  "
      ]
     },
     "execution_count": 16,
     "metadata": {},
     "output_type": "execute_result"
    }
   ],
   "source": [
    "df.describe().round(3)"
   ]
  },
  {
   "cell_type": "code",
   "execution_count": 17,
   "id": "d2af3a40-7fbf-4e62-89a5-4062e2a63f43",
   "metadata": {},
   "outputs": [],
   "source": [
    "impossible_km = df[df['km']>200000].index\n",
    "df.drop(impossible_km,inplace=True)\n",
    "\n",
    "impossbile_cc = df[df['cc'] > 2450].index\n",
    "df.drop(impossbile_cc,inplace=True)\n",
    "\n",
    "impossible_year = df[df['construction_year'] <  datetime.date(1960,1,1)].index\n",
    "df.drop(impossible_year,inplace=True)\n",
    "\n",
    "too_expensive = df[df['price_eur'] >= 1000000].index\n",
    "df.drop(too_expensive,inplace=True)\n",
    "\n"
   ]
  },
  {
   "cell_type": "code",
   "execution_count": 18,
   "id": "0edfc024-0258-436f-bfa5-089be619ef56",
   "metadata": {},
   "outputs": [],
   "source": [
    "new_motorcyle = df[df['km'] < 50].index\n",
    "df.drop(new_motorcyle,inplace=True)\n",
    "\n",
    "no_cc = df[df['cc'] < 45].index\n",
    "df.drop(no_cc,inplace=True)"
   ]
  },
  {
   "cell_type": "markdown",
   "id": "e0341d7f-33ec-459c-a6d0-69c0d7dccee6",
   "metadata": {},
   "source": [
    "<h1> 3) Save the cleaned dataframe </h1>"
   ]
  },
  {
   "cell_type": "code",
   "execution_count": 19,
   "id": "6cee98a4-5dff-4090-a6a6-4bee8b3c6a50",
   "metadata": {},
   "outputs": [
    {
     "name": "stdout",
     "output_type": "stream",
     "text": [
      "(4405, 24)\n",
      "                                        id  price_eur     brand   advertiser  \\\n",
      "9607   https://www.2dehands.be/m1788917404     230000    Suzuki  Particulier   \n",
      "13506  https://www.2dehands.be/m1832994867     338500    Suzuki  Particulier   \n",
      "4203   https://www.2dehands.be/m1821361066     425000     Honda  Particulier   \n",
      "5024   https://www.2dehands.be/m1766645660     439900     Honda      Bedrijf   \n",
      "6631   https://www.2dehands.be/m1823306577     320000  Kawasaki  Particulier   \n",
      "6701   https://www.2dehands.be/m1735844130     620000  Kawasaki      Bedrijf   \n",
      "3902   https://www.2dehands.be/m1829188314     640000     Honda  Particulier   \n",
      "\n",
      "       viewed  liked                    posted  \\\n",
      "9607     1006      9  sinds 25 dec. '21, 13:44   \n",
      "13506     203      9  sinds 18 apr. '22, 19:43   \n",
      "4203     1091     11  sinds 17 mar. '22, 23:04   \n",
      "5024      854     10  sinds 29 okt. '21, 14:24   \n",
      "6631      346     12  sinds 23 mar. '22, 11:30   \n",
      "6701     1506     21   sinds 7 aug. '21, 15:35   \n",
      "3902      101      4   sinds 8 apr. '22, 10:32   \n",
      "\n",
      "                                               title  \\\n",
      "9607             Suzuki Gsxr 1100 1992 streetfighter   \n",
      "13506    Suzuki Gladius SFV650 + Tom Tom Urban Rider   \n",
      "4203   Moto Honda CB125R  - Quasi neuve - 385 km !!!   \n",
      "5024                                    Honda CB300R   \n",
      "6631                             Kawasaki ninja zx6r   \n",
      "6701                              Kawasaki ninja 650   \n",
      "3902                                   moto NCT 750x   \n",
      "\n",
      "                                             description extracted_on  \\\n",
      "9607   Suzuki gsxr 1100 1992 streetfighter, staat al ...   2022-04-13   \n",
      "13506  Suzuki Gladius SFV650Slechts 4.700kmWit/blauwA...   2022-04-20   \n",
      "4203   Je vends ma moto Honda CB125R achetée neuve en...   2022-04-12   \n",
      "5024   – Bouwjaar: 2019– Kilometerstand: 6440 km– Pri...   2022-04-12   \n",
      "6631   Deze mooie Kawasaki verkeerd nog in zeer goede...   2022-04-12   \n",
      "6701   Kawasaki ninja 650Zeer nette, goed onderhouden...   2022-04-12   \n",
      "3902   Honda NCT 750x. perfect onderhouden , als nieu...   2022-04-12   \n",
      "\n",
      "                            location            seller_name  \\\n",
      "9607                          Beerse                   bram   \n",
      "13506                     Deux-Acren             Shaggy_bay   \n",
      "4203   Vielsalm+Part D'Arbrefontaine                   Ania   \n",
      "5024                        Zaventem  Honda Mertens Brussel   \n",
      "6631                         Beveren     Benjamin Crikemans   \n",
      "6701                      Wuustwezel  Motorhandel Vermeeren   \n",
      "3902                         Kemzeke            Bosman Dany   \n",
      "\n",
      "                                                  images         type  \\\n",
      "9607   ['https//i.ebayimg.com/00/s/NzY4WDEwMjQ=/z/mkc...   Naked bike   \n",
      "13506  ['https//i.ebayimg.com/00/s/NzY4WDEwMjQ=/z/XxQ...   Naked bike   \n",
      "4203   ['https//i.ebayimg.com/00/s/MTAyNFg5Mzk=/z/nfI...   Naked bike   \n",
      "5024                                                  []   Naked bike   \n",
      "6631   ['https//i.ebayimg.com/00/s/NzY4WDEwMjQ=/z/xss...        Sport   \n",
      "6701   ['https//i.ebayimg.com/00/s/NzY4WDEwMjQ=/z/p7c...  Super Sport   \n",
      "3902   ['https//i.ebayimg.com/00/s/NzY4WDEwMjQ=/z/~fs...    Toermotor   \n",
      "\n",
      "                 power construction_year  cylinders       km      cc warranty  \\\n",
      "9607    meer dan 35 kW        1992-01-01        4.0  19000.0  1100.0      NaN   \n",
      "13506   meer dan 35 kW        2009-01-01        4.0   4738.0   645.0      NaN   \n",
      "4203   11 kW of minder        2021-01-01        1.0    385.0   125.0      NaN   \n",
      "5024      12 t/m 35 kW        2019-01-01        1.0   6440.0   300.0      NaN   \n",
      "6631    meer dan 35 kW        2002-01-01        4.0  34000.0   636.0      NaN   \n",
      "6701    meer dan 35 kW        2017-01-01        2.0   9000.0   650.0      NaN   \n",
      "3902    meer dan 35 kW        2019-01-01        2.0   6000.0   750.0      NaN   \n",
      "\n",
      "       Kenteken  Artikelnummer  advertiser_binary date_posted  \n",
      "9607        NaN            NaN                  1  25/12/2021  \n",
      "13506       NaN            NaN                  1  18/04/2022  \n",
      "4203        NaN            NaN                  1  17/03/2022  \n",
      "5024        NaN            NaN                  0  29/10/2021  \n",
      "6631        NaN            NaN                  1  23/03/2022  \n",
      "6701        NaN            NaN                  0  07/08/2021  \n",
      "3902        NaN            NaN                  1  08/04/2022  \n"
     ]
    }
   ],
   "source": [
    "pd.set_option('display.max_columns', None)\n",
    "print(df.shape)\n",
    "print(df.sample(7))"
   ]
  },
  {
   "cell_type": "code",
   "execution_count": 20,
   "id": "8475c940-6e7a-4a84-a958-f0a9930c9ad0",
   "metadata": {},
   "outputs": [],
   "source": [
    "df.to_csv('cleaned_df.csv',index=False)"
   ]
  },
  {
   "cell_type": "code",
   "execution_count": null,
   "id": "7fce7b01-8fa6-4c4d-9a59-58715ac3eaeb",
   "metadata": {},
   "outputs": [],
   "source": []
  }
 ],
 "metadata": {
  "kernelspec": {
   "display_name": "Python 3 (ipykernel)",
   "language": "python",
   "name": "python3"
  },
  "language_info": {
   "codemirror_mode": {
    "name": "ipython",
    "version": 3
   },
   "file_extension": ".py",
   "mimetype": "text/x-python",
   "name": "python",
   "nbconvert_exporter": "python",
   "pygments_lexer": "ipython3",
   "version": "3.7.11"
  }
 },
 "nbformat": 4,
 "nbformat_minor": 5
}
