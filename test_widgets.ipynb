{
 "cells": [
  {
   "cell_type": "code",
   "execution_count": 14,
   "id": "47807a88-3739-4528-80ea-1686c785388a",
   "metadata": {},
   "outputs": [],
   "source": [
    "import os\n",
    "new_dir = 'C:/Users/david/Desktop/courses/5_data_preprocessing/project_webscraping/'\n",
    "os.chdir(new_dir)"
   ]
  },
  {
   "cell_type": "code",
   "execution_count": 15,
   "id": "e5695c36-fcf4-4b6f-ab73-813a202b7e41",
   "metadata": {},
   "outputs": [],
   "source": [
    "import ipywidgets as widgets\n",
    "import pandas as pd"
   ]
  },
  {
   "cell_type": "code",
   "execution_count": 16,
   "id": "3de952ac-a73a-48b4-af05-d718c916ce48",
   "metadata": {},
   "outputs": [],
   "source": [
    "df = pd.read_csv('df_final.csv')\n",
    "df = df.sort_values('metric')\n",
    "df_small = df[df['power'] == '11 kW of minder']\n",
    "df_medium = df[df['power'] == '12 t/m 35 kW']\n",
    "df_big =  df[df['power'] == 'meer dan 35 kW']"
   ]
  },
  {
   "cell_type": "code",
   "execution_count": 17,
   "id": "9ca177ac-7f96-438b-a25b-8a728346daf0",
   "metadata": {},
   "outputs": [
    {
     "data": {
      "text/html": [
       "<div>\n",
       "<style scoped>\n",
       "    .dataframe tbody tr th:only-of-type {\n",
       "        vertical-align: middle;\n",
       "    }\n",
       "\n",
       "    .dataframe tbody tr th {\n",
       "        vertical-align: top;\n",
       "    }\n",
       "\n",
       "    .dataframe thead th {\n",
       "        text-align: right;\n",
       "    }\n",
       "</style>\n",
       "<table border=\"1\" class=\"dataframe\">\n",
       "  <thead>\n",
       "    <tr style=\"text-align: right;\">\n",
       "      <th></th>\n",
       "      <th>power</th>\n",
       "      <th>brand</th>\n",
       "      <th>type</th>\n",
       "    </tr>\n",
       "  </thead>\n",
       "  <tbody>\n",
       "    <tr>\n",
       "      <th>3770</th>\n",
       "      <td>meer dan 35 kW</td>\n",
       "      <td>Triumph</td>\n",
       "      <td>Toermotor</td>\n",
       "    </tr>\n",
       "    <tr>\n",
       "      <th>2007</th>\n",
       "      <td>12 t/m 35 kW</td>\n",
       "      <td>Piaggio</td>\n",
       "      <td>Scooter</td>\n",
       "    </tr>\n",
       "    <tr>\n",
       "      <th>3502</th>\n",
       "      <td>meer dan 35 kW</td>\n",
       "      <td>Royal Enfield</td>\n",
       "      <td>Overig</td>\n",
       "    </tr>\n",
       "    <tr>\n",
       "      <th>4017</th>\n",
       "      <td>11 kW of minder</td>\n",
       "      <td>Honda</td>\n",
       "      <td>Enduro</td>\n",
       "    </tr>\n",
       "    <tr>\n",
       "      <th>3456</th>\n",
       "      <td>meer dan 35 kW</td>\n",
       "      <td>Piaggio</td>\n",
       "      <td>SuperMoto</td>\n",
       "    </tr>\n",
       "    <tr>\n",
       "      <th>...</th>\n",
       "      <td>...</td>\n",
       "      <td>...</td>\n",
       "      <td>...</td>\n",
       "    </tr>\n",
       "    <tr>\n",
       "      <th>4393</th>\n",
       "      <td>11 kW of minder</td>\n",
       "      <td>Honda</td>\n",
       "      <td>Naked bike</td>\n",
       "    </tr>\n",
       "    <tr>\n",
       "      <th>4398</th>\n",
       "      <td>meer dan 35 kW</td>\n",
       "      <td>Triumph</td>\n",
       "      <td>Naked bike</td>\n",
       "    </tr>\n",
       "    <tr>\n",
       "      <th>4401</th>\n",
       "      <td>11 kW of minder</td>\n",
       "      <td>Triumph</td>\n",
       "      <td>Overig</td>\n",
       "    </tr>\n",
       "    <tr>\n",
       "      <th>4402</th>\n",
       "      <td>meer dan 35 kW</td>\n",
       "      <td>MV Agusta</td>\n",
       "      <td>Naked bike</td>\n",
       "    </tr>\n",
       "    <tr>\n",
       "      <th>4403</th>\n",
       "      <td>meer dan 35 kW</td>\n",
       "      <td>MV Agusta</td>\n",
       "      <td>Naked bike</td>\n",
       "    </tr>\n",
       "  </tbody>\n",
       "</table>\n",
       "<p>4405 rows × 3 columns</p>\n",
       "</div>"
      ],
      "text/plain": [
       "                power          brand        type\n",
       "3770   meer dan 35 kW        Triumph   Toermotor\n",
       "2007     12 t/m 35 kW        Piaggio     Scooter\n",
       "3502   meer dan 35 kW  Royal Enfield      Overig\n",
       "4017  11 kW of minder          Honda      Enduro\n",
       "3456   meer dan 35 kW        Piaggio   SuperMoto\n",
       "...               ...            ...         ...\n",
       "4393  11 kW of minder          Honda  Naked bike\n",
       "4398   meer dan 35 kW        Triumph  Naked bike\n",
       "4401  11 kW of minder        Triumph      Overig\n",
       "4402   meer dan 35 kW      MV Agusta  Naked bike\n",
       "4403   meer dan 35 kW      MV Agusta  Naked bike\n",
       "\n",
       "[4405 rows x 3 columns]"
      ]
     },
     "execution_count": 17,
     "metadata": {},
     "output_type": "execute_result"
    }
   ],
   "source": [
    "df[['power','brand','type']]"
   ]
  },
  {
   "cell_type": "code",
   "execution_count": 18,
   "id": "398199d9-7766-43f4-8c41-4e196eed382c",
   "metadata": {},
   "outputs": [
    {
     "data": {
      "text/plain": [
       "\"\\nnew_dir = 'C:/Users/david/Desktop/courses/5_data_preprocessing/project_webscraping/matadoto/data/features/'\\nos.chdir(new_dir)\\ndf = pd.read_csv('df_features.csv')\\ndf_small = df[df['power'] == '11 kW of minder']\\ndf_medium = df[df['power'] == '12 t/m 35 kW']\\ndf_big =  df[df['power'] == 'meer dan 35 kW']\\n\""
      ]
     },
     "execution_count": 18,
     "metadata": {},
     "output_type": "execute_result"
    }
   ],
   "source": [
    "'''\n",
    "new_dir = 'C:/Users/david/Desktop/courses/5_data_preprocessing/project_webscraping/matadoto/data/features/'\n",
    "os.chdir(new_dir)\n",
    "df = pd.read_csv('df_features.csv')\n",
    "df_small = df[df['power'] == '11 kW of minder']\n",
    "df_medium = df[df['power'] == '12 t/m 35 kW']\n",
    "df_big =  df[df['power'] == 'meer dan 35 kW']\n",
    "'''"
   ]
  },
  {
   "cell_type": "code",
   "execution_count": 19,
   "id": "7f145f52-5688-4291-a597-66cd5abeb192",
   "metadata": {},
   "outputs": [],
   "source": [
    "ALL = 'ALL'\n",
    "def unique_sorted_values_plus_ALL(array):\n",
    "    unique = array.unique().tolist()\n",
    "    unique.sort()\n",
    "    unique.insert(0, ALL)\n",
    "    return unique"
   ]
  },
  {
   "cell_type": "code",
   "execution_count": 20,
   "id": "c6648fd1-13e7-4ffc-9481-9ddbe554d735",
   "metadata": {},
   "outputs": [],
   "source": [
    "def common_filtering(brand, Type, df):\n",
    "    output.clear_output()\n",
    "    \n",
    "    if (brand == ALL) & ( Type == ALL):\n",
    "        common_filter = df\n",
    "    elif (brand == ALL):\n",
    "        common_filter = df[df.type == Type]\n",
    "    elif (Type == ALL):\n",
    "        common_filter = df[df.brand == brand]\n",
    "    else:\n",
    "        common_filter = df[(df.brand == brand) & (df.type == Type)]\n",
    "    with output:\n",
    "        display(common_filter)"
   ]
  },
  {
   "cell_type": "code",
   "execution_count": 21,
   "id": "b93d4593-96e5-4e0b-be23-87d29ec9aadf",
   "metadata": {},
   "outputs": [
    {
     "data": {
      "application/vnd.jupyter.widget-view+json": {
       "model_id": "370d20afa6004cc6bf01620caf0b83bb",
       "version_major": 2,
       "version_minor": 0
      },
      "text/plain": [
       "Dropdown(options=('ALL', 'Aprilia', 'BMW', 'Cagiva', 'Harley-Davidson', 'Honda', 'Husqvarna', 'Hyosung', 'KTM'…"
      ]
     },
     "metadata": {},
     "output_type": "display_data"
    },
    {
     "data": {
      "application/vnd.jupyter.widget-view+json": {
       "model_id": "931368cbe0394d068a95b7e527a6a37f",
       "version_major": 2,
       "version_minor": 0
      },
      "text/plain": [
       "Dropdown(options=('ALL', 'Chopper', 'Crossmotor', 'Enduro', 'Naked bike', 'Overig', 'Scooter', 'Sport', 'Super…"
      ]
     },
     "metadata": {},
     "output_type": "display_data"
    },
    {
     "data": {
      "application/vnd.jupyter.widget-view+json": {
       "model_id": "6e79c3269992439b9fa4f9d8c41b972b",
       "version_major": 2,
       "version_minor": 0
      },
      "text/plain": [
       "Output()"
      ]
     },
     "metadata": {},
     "output_type": "display_data"
    }
   ],
   "source": [
    "\n",
    "output = widgets.Output()\n",
    "\n",
    "dropdown_brand = widgets.Dropdown(options = unique_sorted_values_plus_ALL(df_small.brand))\n",
    "\n",
    "dropdown_type = widgets.Dropdown(options = unique_sorted_values_plus_ALL(df_small.type))\n",
    "   \n",
    "        \n",
    "def dropdown_year_eventhandler(change):\n",
    "    common_filtering(change.new, dropdown_type.value,df_small)\n",
    "def dropdown_purpose_eventhandler(change):\n",
    "    common_filtering(dropdown_brand.value, change.new, df_small)\n",
    "    \n",
    "    \n",
    "dropdown_brand.observe(dropdown_year_eventhandler, names='value')\n",
    "dropdown_type.observe(dropdown_purpose_eventhandler, names='value')\n",
    "\n",
    "display(dropdown_brand)\n",
    "display(dropdown_type)\n",
    "\n",
    "display(output)"
   ]
  },
  {
   "cell_type": "code",
   "execution_count": 22,
   "id": "925a4688-3d89-4489-ad80-ef57af9b5c74",
   "metadata": {},
   "outputs": [],
   "source": [
    "def common_filtering(brand, Type, df):\n",
    "    output.clear_output()\n",
    "    \n",
    "    if (brand == ALL) & ( Type == ALL):\n",
    "        common_filter = df\n",
    "    elif (brand == ALL):\n",
    "        common_filter = df[df.type == Type]\n",
    "    elif (Type == ALL):\n",
    "        common_filter = df[df.brand == brand]\n",
    "    else:\n",
    "        common_filter = df[(df.brand == brand) & (df.type == Type)]\n",
    "    with output:\n",
    "        display(common_filter)"
   ]
  },
  {
   "cell_type": "code",
   "execution_count": 23,
   "id": "36323d15-dc63-4857-82b2-be25792d3e8b",
   "metadata": {},
   "outputs": [
    {
     "data": {
      "application/vnd.jupyter.widget-view+json": {
       "model_id": "36ad8978424a43d0b3ae4075d9a6a130",
       "version_major": 2,
       "version_minor": 0
      },
      "text/plain": [
       "Dropdown(options=('ALL', 'Aprilia', 'BMW', 'Cagiva', 'Ducati', 'Harley-Davidson', 'Honda', 'Husqvarna', 'Hyosu…"
      ]
     },
     "metadata": {},
     "output_type": "display_data"
    },
    {
     "data": {
      "application/vnd.jupyter.widget-view+json": {
       "model_id": "af3e9ba6b1534e718460cc457a50b806",
       "version_major": 2,
       "version_minor": 0
      },
      "text/plain": [
       "Dropdown(options=('ALL', 'Chopper', 'Crossmotor', 'Enduro', 'Naked bike', 'Overig', 'Scooter', 'Sport', 'Super…"
      ]
     },
     "metadata": {},
     "output_type": "display_data"
    },
    {
     "data": {
      "application/vnd.jupyter.widget-view+json": {
       "model_id": "8fee1df9a39d41abac85223bb0871aa2",
       "version_major": 2,
       "version_minor": 0
      },
      "text/plain": [
       "Output()"
      ]
     },
     "metadata": {},
     "output_type": "display_data"
    }
   ],
   "source": [
    "\n",
    "output = widgets.Output()\n",
    "\n",
    "dropdown_brand = widgets.Dropdown(options = unique_sorted_values_plus_ALL(df_medium.brand))\n",
    "\n",
    "dropdown_type = widgets.Dropdown(options = unique_sorted_values_plus_ALL(df_medium.type))\n",
    "   \n",
    "        \n",
    "def dropdown_year_eventhandler(change):\n",
    "    common_filtering(change.new, dropdown_type.value,df_medium)\n",
    "def dropdown_purpose_eventhandler(change):\n",
    "    common_filtering(dropdown_brand.value, change.new, df_medium)\n",
    "    \n",
    "    \n",
    "dropdown_brand.observe(dropdown_year_eventhandler, names='value')\n",
    "dropdown_type.observe(dropdown_purpose_eventhandler, names='value')\n",
    "\n",
    "display(dropdown_brand)\n",
    "display(dropdown_type)\n",
    "\n",
    "display(output)"
   ]
  },
  {
   "cell_type": "code",
   "execution_count": 24,
   "id": "e64dfd45-4fc1-4519-b488-d8add3bd3f87",
   "metadata": {},
   "outputs": [],
   "source": [
    "def common_filtering(brand, Type, df):\n",
    "    output.clear_output()\n",
    "    \n",
    "    if (brand == ALL) & ( Type == ALL):\n",
    "        common_filter = df\n",
    "    elif (brand == ALL):\n",
    "        common_filter = df[df.type == Type]\n",
    "    elif (Type == ALL):\n",
    "        common_filter = df[df.brand == brand]\n",
    "    else:\n",
    "        common_filter = df[(df.brand == brand) & (df.type == Type)]\n",
    "    with output:\n",
    "        display(common_filter)"
   ]
  },
  {
   "cell_type": "code",
   "execution_count": 25,
   "id": "d9e163ba-6a50-430c-8d7d-9a1839bc22d3",
   "metadata": {},
   "outputs": [
    {
     "data": {
      "application/vnd.jupyter.widget-view+json": {
       "model_id": "a085c0e50d714b95a015a0001fdc2412",
       "version_major": 2,
       "version_minor": 0
      },
      "text/plain": [
       "Dropdown(options=('ALL', 'Aprilia', 'BMW', 'Buell', 'Cagiva', 'Ducati', 'Harley-Davidson', 'Honda', 'Husqvarna…"
      ]
     },
     "metadata": {},
     "output_type": "display_data"
    },
    {
     "data": {
      "application/vnd.jupyter.widget-view+json": {
       "model_id": "0975617b066844398867f62e1077ebd4",
       "version_major": 2,
       "version_minor": 0
      },
      "text/plain": [
       "Dropdown(options=('ALL', 'Chopper', 'Crossmotor', 'Enduro', 'Naked bike', 'Overig', 'Scooter', 'Sport', 'Super…"
      ]
     },
     "metadata": {},
     "output_type": "display_data"
    },
    {
     "data": {
      "application/vnd.jupyter.widget-view+json": {
       "model_id": "39298936bf1c4343a043c0d39f9e098b",
       "version_major": 2,
       "version_minor": 0
      },
      "text/plain": [
       "Output()"
      ]
     },
     "metadata": {},
     "output_type": "display_data"
    }
   ],
   "source": [
    "\n",
    "output = widgets.Output()\n",
    "\n",
    "dropdown_brand = widgets.Dropdown(options = unique_sorted_values_plus_ALL(df_big.brand))\n",
    "\n",
    "dropdown_type = widgets.Dropdown(options = unique_sorted_values_plus_ALL(df_big.type))\n",
    "   \n",
    "        \n",
    "def dropdown_year_eventhandler(change):\n",
    "    common_filtering(change.new, dropdown_type.value,df_big)\n",
    "def dropdown_purpose_eventhandler(change):\n",
    "    common_filtering(dropdown_brand.value, change.new, df_big)\n",
    "    \n",
    "    \n",
    "dropdown_brand.observe(dropdown_year_eventhandler, names='value')\n",
    "dropdown_type.observe(dropdown_purpose_eventhandler, names='value')\n",
    "\n",
    "display(dropdown_brand)\n",
    "display(dropdown_type)\n",
    "\n",
    "display(output)"
   ]
  },
  {
   "cell_type": "code",
   "execution_count": null,
   "id": "fdea8623-d4ec-4142-b02c-60c7fe807427",
   "metadata": {},
   "outputs": [],
   "source": []
  }
 ],
 "metadata": {
  "kernelspec": {
   "display_name": "Python 3 (ipykernel)",
   "language": "python",
   "name": "python3"
  },
  "language_info": {
   "codemirror_mode": {
    "name": "ipython",
    "version": 3
   },
   "file_extension": ".py",
   "mimetype": "text/x-python",
   "name": "python",
   "nbconvert_exporter": "python",
   "pygments_lexer": "ipython3",
   "version": "3.7.11"
  }
 },
 "nbformat": 4,
 "nbformat_minor": 5
}
