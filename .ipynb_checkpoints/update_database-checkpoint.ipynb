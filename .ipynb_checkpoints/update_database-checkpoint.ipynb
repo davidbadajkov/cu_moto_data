{
 "cells": [
  {
   "cell_type": "code",
   "execution_count": 1,
   "id": "a1310ebf-0048-4419-948a-31055b32f0f6",
   "metadata": {},
   "outputs": [
    {
     "name": "stdout",
     "output_type": "stream",
     "text": [
      "Starting API gateways in 10 regions.\n",
      "Using 10 endpoints with name 'https://www.2dehands.be/ - IP Rotate API' (0 new).\n"
     ]
    }
   ],
   "source": [
    "import time\n",
    "import numpy as np\n",
    "import pandas as pd\n",
    "import pickle\n",
    "\n",
    "from MotoScraper import MotoDownloader"
   ]
  },
  {
   "cell_type": "markdown",
   "id": "83629983-161b-4ce9-a000-97b3cee8dc8d",
   "metadata": {},
   "source": [
    "<h2> Update the Database with new observation and Retrieve all the information for each motorcycle </h2>\n",
    "<p> We use the moto id to scrape each page individually. So around 8000 pages will be scraped."
   ]
  },
  {
   "cell_type": "code",
   "execution_count": 3,
   "id": "796a65e0-87ed-4fe9-b8ad-2ee2f9966677",
   "metadata": {},
   "outputs": [],
   "source": [
    "# Opens the ID List file.\n",
    "with open ('list_all_id.ob', 'rb') as fp:\n",
    "    list_all_id = pickle.load(fp)\n",
    "    \n",
    "# Current database of motorcycles\n",
    "database = pd.read_csv('database_moto_updated.csv')"
   ]
  },
  {
   "cell_type": "code",
   "execution_count": 4,
   "id": "e645f331-7539-47d2-815d-486f97a3261e",
   "metadata": {},
   "outputs": [],
   "source": [
    "# Check which motorcycles we are missing from our database (comparing existing moto ID and the 'fresh' ones from the list_all_id)\n",
    "df_all_id = pd.DataFrame({'id' : list_all_id})\n",
    "cond = df_all_id['id'].isin(database['id'])\n",
    "moto_id_missing = df_all_id.drop(df_all_id[cond].index)"
   ]
  },
  {
   "cell_type": "code",
   "execution_count": 5,
   "id": "98b964e8-2be8-4305-9b21-5f731fdf2a86",
   "metadata": {},
   "outputs": [
    {
     "name": "stdout",
     "output_type": "stream",
     "text": [
      "There are 7196 motorcycles available online.\n",
      "We have 14125 Motorcycles in our database.\n",
      "And we could add 13 motorcycles to our database.\n"
     ]
    }
   ],
   "source": [
    "print(f'There are {len(list_all_id)} motorcycles available online.')\n",
    "print(f'We have {len(database)} Motorcycles in our database.')\n",
    "print(f'And we could add {len(moto_id_missing)} motorcycles to our database.')"
   ]
  },
  {
   "cell_type": "code",
   "execution_count": 6,
   "id": "c0faf5bb-d8b3-4b91-b38d-1379cad3e3b7",
   "metadata": {},
   "outputs": [
    {
     "name": "stdout",
     "output_type": "stream",
     "text": [
      "However, some motorcycles are not available anymore and they account for 692 motorcycles\n",
      "Therefore, we can still retrieve 0 motorcycles\n"
     ]
    }
   ],
   "source": [
    "# Some motorcycles weren't retrieved, mostly because they aren't online anymore (got sold or advertiser changed his mind, ...)\n",
    "with open ('went_wrong.ob', 'rb') as fp:\n",
    "    went_wrong = pickle.load(fp) \n",
    "print(f'However, some motorcycles are not available anymore and they account for {len(went_wrong)} motorcycles')\n",
    "moto_id_missing = moto_id_missing[~moto_id_missing.id.isin(went_wrong)]\n",
    "print(f'Therefore, we can still retrieve {len(moto_id_missing)} motorcycles')"
   ]
  },
  {
   "cell_type": "code",
   "execution_count": 11,
   "id": "9fb599e0-7585-493b-b603-943ee9d6b8e4",
   "metadata": {
    "tags": []
   },
   "outputs": [
    {
     "name": "stdout",
     "output_type": "stream",
     "text": [
      "something went wrong with the following moto id: https://www.2dehands.be/m1832386249\n",
      "something went wrong with the following moto id: https://www.2dehands.be/m1832328804\n",
      "something went wrong with the following moto id: https://www.2dehands.be/m1832529636\n",
      "something went wrong with the following moto id: https://www.2dehands.be/m1833106341\n",
      "something went wrong with the following moto id: https://www.2dehands.be/m1831933927\n",
      "something went wrong with the following moto id: https://www.2dehands.be/m1832682504\n",
      "something went wrong with the following moto id: https://www.2dehands.be/m1832835750\n",
      "something went wrong with the following moto id: https://www.2dehands.be/m1831373449\n",
      "something went wrong with the following moto id: https://www.2dehands.be/m1832740194\n",
      "something went wrong with the following moto id: https://www.2dehands.be/m1832799048\n",
      "something went wrong with the following moto id: https://www.2dehands.be/m1833276719\n",
      "something went wrong with the following moto id: https://www.2dehands.be/m1833090528\n"
     ]
    }
   ],
   "source": [
    "went_wrong = []\n",
    "all_motorcycle_characteristics = []\n",
    "\n",
    "for url in moto_id_missing['id']:\n",
    "    instance = MotoDownloader()\n",
    "    instance.get_soup(moto_url = url)\n",
    "    \n",
    "    if instance.request.status_code == 200:\n",
    "\n",
    "    \n",
    "        instance.get_main_attributes()\n",
    "        instance.get_extra_attributes()\n",
    "        instance.get_text()\n",
    "        instance.get_brand()\n",
    "        instance.get_id()\n",
    "        instance.get_extracted_date()\n",
    "        instance.get_price()\n",
    "        instance.get_location()\n",
    "        instance.get_seller_name()\n",
    "        instance.get_image()\n",
    "        df = instance.parse_all()\n",
    "        all_motorcycle_characteristics.append(df)\n",
    "    else:\n",
    "        print(f'something went wrong with the following moto id: {url}')\n",
    "        went_wrong.append(url)\n",
    "        \n",
    "    # Let the platform recover\n",
    "    x = np.random.uniform(low=0.8,high=1.8)\n",
    "    time.sleep(x)"
   ]
  },
  {
   "cell_type": "code",
   "execution_count": 12,
   "id": "2a5f13e5-9e10-463b-9d04-ef8756c6ebf7",
   "metadata": {},
   "outputs": [],
   "source": [
    "fresh_df = pd.concat(all_motorcycle_characteristics)"
   ]
  },
  {
   "cell_type": "markdown",
   "id": "d86db9a3-1e76-405e-a88a-79b4e25e2d73",
   "metadata": {},
   "source": [
    "<h2> Merging the \"fresh\" motorcycles to the existing database </h2>"
   ]
  },
  {
   "cell_type": "code",
   "execution_count": 13,
   "id": "49a7db19-b608-4f7c-9ab3-9779d0dc17d8",
   "metadata": {},
   "outputs": [],
   "source": [
    "# Add the fresh data to the current database\n",
    "df_together = pd.concat([database,fresh_df])\n",
    "# Drop duplicates in case that happened.\n",
    "df_together.drop_duplicates('id',inplace=True)"
   ]
  },
  {
   "cell_type": "code",
   "execution_count": 14,
   "id": "7dba17b2-d571-40ac-8626-c9abc1d68a0a",
   "metadata": {},
   "outputs": [],
   "source": [
    "# Save the new database\n",
    "df_together.to_csv('database_moto_updated.csv', index=False)"
   ]
  },
  {
   "cell_type": "code",
   "execution_count": 15,
   "id": "0a375896-0995-4e85-98e3-7991f18d4a8c",
   "metadata": {},
   "outputs": [],
   "source": [
    "# Add new wrong ID to the list and SAVE it\n",
    "with open ('went_wrong.ob', 'rb') as fp:\n",
    "    previously_wrong = pickle.load(fp) \n",
    "new_wrong_list = previously_wrong + went_wrong\n",
    "\n",
    "# SAVE THE WRONG_LIST\n",
    "with open('went_wrong.ob', 'wb') as fp:\n",
    "    pickle.dump(new_wrong_list, fp)"
   ]
  }
 ],
 "metadata": {
  "kernelspec": {
   "display_name": "Python 3 (ipykernel)",
   "language": "python",
   "name": "python3"
  },
  "language_info": {
   "codemirror_mode": {
    "name": "ipython",
    "version": 3
   },
   "file_extension": ".py",
   "mimetype": "text/x-python",
   "name": "python",
   "nbconvert_exporter": "python",
   "pygments_lexer": "ipython3",
   "version": "3.7.11"
  }
 },
 "nbformat": 4,
 "nbformat_minor": 5
}
