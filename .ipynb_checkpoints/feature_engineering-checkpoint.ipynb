{
 "cells": [
  {
   "cell_type": "markdown",
   "id": "80571959-5899-4af7-9ca1-62426c9226ed",
   "metadata": {},
   "source": [
    "<h1> 1) Importing Packages and Loading Cleaned Dataset </h1>"
   ]
  },
  {
   "cell_type": "code",
   "execution_count": 1,
   "id": "5ab17041-0192-47da-aadb-4c806273edc4",
   "metadata": {},
   "outputs": [],
   "source": [
    "import pandas as pd\n",
    "import numpy as np"
   ]
  },
  {
   "cell_type": "code",
   "execution_count": 2,
   "id": "c5911656-6032-4ec8-aec5-95674e5d1536",
   "metadata": {},
   "outputs": [
    {
     "name": "stdout",
     "output_type": "stream",
     "text": [
      "(4405, 24)\n"
     ]
    }
   ],
   "source": [
    "df = pd.read_csv('cleaned_df.csv',parse_dates=['date_posted','construction_year'])\n",
    "print(df.shape)"
   ]
  },
  {
   "cell_type": "markdown",
   "id": "18e30d08-803f-4bd1-842e-7536e1e6774c",
   "metadata": {},
   "source": [
    "<h1> 2) Basic Feature Engineering </h1>\n",
    "<p> With existing data it is possible to enrich the data set by performing feature engineering. Unstructured data can be transformed into structured data, allowing to expand the analysis."
   ]
  },
  {
   "cell_type": "code",
   "execution_count": 3,
   "id": "c2eeba9f-d489-4ab2-9a5d-6cf24a4b417a",
   "metadata": {},
   "outputs": [],
   "source": [
    "# How many years has the motorcycles been aaround? We create an 'age' variable to answer that\n",
    "df['age'] = df['construction_year'].apply(lambda x: ( (pd.to_datetime('2022-1-1') - x).total_seconds())  / (60*60*24*365))"
   ]
  },
  {
   "cell_type": "code",
   "execution_count": 4,
   "id": "2226e514-e23f-4147-ae4d-054fba2994d5",
   "metadata": {},
   "outputs": [],
   "source": [
    "# Motorcycles older than 25 are defined as old timers\n",
    "df['old_timer'] = df['age'] > 25 "
   ]
  },
  {
   "cell_type": "code",
   "execution_count": 5,
   "id": "6bc3634e-5479-49e1-9724-4b61f8ed48d3",
   "metadata": {},
   "outputs": [],
   "source": [
    "# How many kilometers per year has the motorcycles has done (on average)\n",
    "df['km_per_year'] = df['km'] / df['age']"
   ]
  },
  {
   "cell_type": "code",
   "execution_count": 6,
   "id": "b8b0a0c0-e0ce-48d8-8ff0-9ab1a591f8c3",
   "metadata": {},
   "outputs": [],
   "source": [
    "# Gives an idea how large the description the seller has given\n",
    "df['length_description'] = df['description'].apply(lambda row: len(row))"
   ]
  },
  {
   "cell_type": "code",
   "execution_count": 7,
   "id": "58db11c0-6247-408a-9c7b-698fde93a1b1",
   "metadata": {},
   "outputs": [],
   "source": [
    "# A new variable that tells how many motorcycles a certain user has put online\n",
    "count_moto_per_name = df['seller_name'].value_counts().to_frame()\n",
    "count_moto_per_name = df.groupby('seller_name')['id'].count().to_frame()\n",
    "count_moto_per_name.rename(columns = { 'id' : 'motorcycles_per_account'}, inplace=True)\n",
    "df = df.merge(count_moto_per_name,on='seller_name')"
   ]
  },
  {
   "cell_type": "markdown",
   "id": "4817865c-4ec3-45f9-9569-f50d8ae916a7",
   "metadata": {},
   "source": [
    "<h1> 3) Advanced Feature Engineering: Performance Metric </h1>\n",
    "<p> How to decide which motorcycle is a good deal or a bad deal? There are so many aspects to take into consideration. However, We would like to create a metric that can summarise the important features. </p>\n",
    "<p> Often, price and kilometers can not be compared across brands, types and power. Therefore, we decide to create a few features that account for it. The idea is that we standardize the price and kilometers according to its specific group. </p>\n",
    "<p> When we have our standardized features, then we are able to create a metric to properly evaluate the motorcycle. </p>\n",
    "\n",
    "<h3> 3.1.1) Price </h3>\n",
    "<p> We start by grouping by brand, type, and power, and then calculate the standardized value for the price. We then assign these values to a new variable: standardized_price. </p>"
   ]
  },
  {
   "cell_type": "code",
   "execution_count": 8,
   "id": "2df3f62b-6346-4a5a-84ef-d654a1facb6c",
   "metadata": {},
   "outputs": [
    {
     "name": "stderr",
     "output_type": "stream",
     "text": [
      "C:\\Users\\david\\anaconda3\\envs\\data_preprocessing_python\\lib\\site-packages\\numpy\\core\\fromnumeric.py:3579: FutureWarning: Dropping of nuisance columns in DataFrame reductions (with 'numeric_only=None') is deprecated; in a future version this will raise TypeError.  Select only valid columns before calling the reduction.\n",
      "  return std(axis=axis, dtype=dtype, out=out, ddof=ddof, **kwargs)\n"
     ]
    },
    {
     "data": {
      "text/plain": [
       "price_eur                                 242641.472036\n",
       "viewed                                       841.664644\n",
       "liked                                          10.24652\n",
       "construction_year          3532 days 09:55:57.115859392\n",
       "cylinders                                      1.131884\n",
       "km                                         26407.292243\n",
       "cc                                           382.908733\n",
       "Kenteken                                            NaN\n",
       "Artikelnummer                                       NaN\n",
       "advertiser_binary                              0.485392\n",
       "date_posted                 162 days 11:50:29.020387766\n",
       "age                                            9.677846\n",
       "old_timer                                      0.347058\n",
       "km_per_year                                         NaN\n",
       "length_description                           560.320763\n",
       "motorcycles_per_account                       21.202476\n",
       "dtype: object"
      ]
     },
     "execution_count": 8,
     "metadata": {},
     "output_type": "execute_result"
    }
   ],
   "source": [
    "# Show the variance of the variables\n",
    "np.std(df)"
   ]
  },
  {
   "cell_type": "code",
   "execution_count": 9,
   "id": "886be84a-7d38-4f36-9c4e-92d85afadb31",
   "metadata": {},
   "outputs": [],
   "source": [
    "zscore = lambda x: (x - x.mean()) / x.std()"
   ]
  },
  {
   "cell_type": "code",
   "execution_count": 10,
   "id": "d4c4b48c-d787-46b5-8e29-ff2a59121f3c",
   "metadata": {},
   "outputs": [],
   "source": [
    "df.insert(1, 'std_price', df.groupby(['type', 'power','power'])['price_eur'].transform(zscore))"
   ]
  },
  {
   "cell_type": "code",
   "execution_count": 11,
   "id": "ad9d986b-d3ce-4427-b64f-3193bf7b0fa1",
   "metadata": {},
   "outputs": [],
   "source": [
    "df.insert(1, 'std_km_per_year', df.groupby(['type', 'power','power'])['km_per_year'].transform(zscore))\n",
    "df.insert(1, 'std_km', df.groupby(['type', 'power','power'])['km'].transform(zscore))"
   ]
  },
  {
   "cell_type": "code",
   "execution_count": 12,
   "id": "181c0d81-fd40-4567-ba54-cacefe0a1ba3",
   "metadata": {},
   "outputs": [],
   "source": [
    "df.insert(1, 'std_age', df.groupby(['type', 'power','power'])['age'].transform(zscore))"
   ]
  },
  {
   "cell_type": "markdown",
   "id": "9dd7055b-0529-431b-b34d-e9fc74c51561",
   "metadata": {},
   "source": [
    "<h3> 3.1.4) Creating the Metrics </h3>\n",
    "<p> In this subsection we create a metric that will allow us to easily find the better deals. The metric will consist of the following 4 variables: standardized_km, standardized_price, scaled_age and standardized_km_per_year. </p> \n",
    "<p> Why are these good features? </p>\n",
    "<p> Firstly, standardized kilometers is interesting because we prefer motorcycles with less kilometers. Secondly, the scaled_age variable says that we prefer more recent motorcycles. Thirdly, standardized_km_per_year accounts for motorcycles that stayed long in the garage and didn't accumulate many kilometers for their age. Finally, standardized_price accounts for the price in its category.  </p>"
   ]
  },
  {
   "cell_type": "code",
   "execution_count": 13,
   "id": "c49e812c-d7b1-4c52-b58b-87390674f1c7",
   "metadata": {},
   "outputs": [],
   "source": [
    "# Creating the metric. We use weights, because we don't want the kilometer related variables to dominate.\n",
    "df['metric'] = 0.167*df['std_km'] + 0.50*df['std_price'] + 0.167*df['std_age'] + 0.167*df['std_km_per_year']"
   ]
  },
  {
   "cell_type": "code",
   "execution_count": 14,
   "id": "e8918a99-471c-4f25-b2bc-4216b1ac8f33",
   "metadata": {},
   "outputs": [],
   "source": [
    "df.to_csv('df_final.csv',index=False)"
   ]
  },
  {
   "cell_type": "code",
   "execution_count": null,
   "id": "2e3dd770-40fe-4aeb-ba88-8d0b3c58ac16",
   "metadata": {},
   "outputs": [],
   "source": []
  }
 ],
 "metadata": {
  "kernelspec": {
   "display_name": "Python 3 (ipykernel)",
   "language": "python",
   "name": "python3"
  },
  "language_info": {
   "codemirror_mode": {
    "name": "ipython",
    "version": 3
   },
   "file_extension": ".py",
   "mimetype": "text/x-python",
   "name": "python",
   "nbconvert_exporter": "python",
   "pygments_lexer": "ipython3",
   "version": "3.7.11"
  }
 },
 "nbformat": 4,
 "nbformat_minor": 5
}
