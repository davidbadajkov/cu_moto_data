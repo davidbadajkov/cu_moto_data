{
 "cells": [
  {
   "cell_type": "code",
   "execution_count": 74,
   "id": "a8a8e553-e596-4235-9b3f-fac2b7ef442b",
   "metadata": {},
   "outputs": [],
   "source": [
    "import ipywidgets as widgets\n",
    "from ipywidgets import interactive\n",
    "import pandas as pd"
   ]
  },
  {
   "cell_type": "code",
   "execution_count": 75,
   "id": "e3fd81a3-e286-406b-a1d8-76b6dfa9a469",
   "metadata": {},
   "outputs": [],
   "source": [
    "df = pd.read_csv('df_final.csv')"
   ]
  },
  {
   "cell_type": "markdown",
   "id": "c2f3bc85-f373-4916-bfac-547b63bd766a",
   "metadata": {},
   "source": [
    "<h1> 2) Filter </h1>\n",
    "We want to keep only categories with at least 15 motorcycle for a given category. The reason is that the metric is based on the standardized features. The standardized features are calculated using the mean and standard deviation, low observations might give some weird results. Therefore, it is preferable to keep only the more frequent categories."
   ]
  },
  {
   "cell_type": "code",
   "execution_count": 76,
   "id": "61269311-8d34-4bd3-8408-095a08ea03d2",
   "metadata": {},
   "outputs": [],
   "source": [
    "frequency = df.groupby(['brand','type','power'])['id'].count().to_frame()\n",
    "frequency.rename(columns={'id':'count_brand_type_power'},inplace=True)\n",
    "df = pd.merge(df,frequency,on=['brand','type','power'],how='inner')\n",
    "df = df[df['count_brand_type_power']>=15]"
   ]
  },
  {
   "cell_type": "code",
   "execution_count": 77,
   "id": "492c6c47-d9cb-4ad4-a499-d812b3486c5b",
   "metadata": {},
   "outputs": [],
   "source": [
    "df_small = df[df['power'] == '11 kW of minder']\n",
    "df_medium = df[df['power'] == '12 t/m 35 kW']\n",
    "df_big =  df[df['power'] == 'meer dan 35 kW']"
   ]
  },
  {
   "cell_type": "code",
   "execution_count": 78,
   "id": "42642f63-be37-493d-9f82-906033ba48df",
   "metadata": {},
   "outputs": [],
   "source": [
    "df_small = df_small.sort_values('metric',ascending=True)\n",
    "df_medium = df_medium.sort_values('metric',ascending=True)\n",
    "df_big = df_big.sort_values('metric',ascending=True)"
   ]
  },
  {
   "cell_type": "code",
   "execution_count": 79,
   "id": "d4029c08-15d5-47e0-a5b7-00bd12d992cf",
   "metadata": {},
   "outputs": [
    {
     "data": {
      "text/plain": [
       "array(['meer dan 35 kW'], dtype=object)"
      ]
     },
     "execution_count": 79,
     "metadata": {},
     "output_type": "execute_result"
    }
   ],
   "source": [
    "df['power'].unique()"
   ]
  },
  {
   "cell_type": "code",
   "execution_count": 80,
   "id": "df8b60cf-2a9d-4980-9e42-38ee8c530bbb",
   "metadata": {},
   "outputs": [
    {
     "data": {
      "text/plain": [
       "12     meer dan 35 kW\n",
       "13     meer dan 35 kW\n",
       "14     meer dan 35 kW\n",
       "15     meer dan 35 kW\n",
       "16     meer dan 35 kW\n",
       "            ...      \n",
       "825    meer dan 35 kW\n",
       "826    meer dan 35 kW\n",
       "827    meer dan 35 kW\n",
       "828    meer dan 35 kW\n",
       "829    meer dan 35 kW\n",
       "Name: power, Length: 636, dtype: object"
      ]
     },
     "execution_count": 80,
     "metadata": {},
     "output_type": "execute_result"
    }
   ],
   "source": [
    "df['power']"
   ]
  },
  {
   "cell_type": "code",
   "execution_count": 81,
   "id": "a936a049-fab3-42a3-906b-cc74d3d8d1e7",
   "metadata": {},
   "outputs": [
    {
     "data": {
      "text/html": [
       "<div>\n",
       "<style scoped>\n",
       "    .dataframe tbody tr th:only-of-type {\n",
       "        vertical-align: middle;\n",
       "    }\n",
       "\n",
       "    .dataframe tbody tr th {\n",
       "        vertical-align: top;\n",
       "    }\n",
       "\n",
       "    .dataframe thead th {\n",
       "        text-align: right;\n",
       "    }\n",
       "</style>\n",
       "<table border=\"1\" class=\"dataframe\">\n",
       "  <thead>\n",
       "    <tr style=\"text-align: right;\">\n",
       "      <th></th>\n",
       "      <th>id</th>\n",
       "      <th>std_age</th>\n",
       "      <th>std_km</th>\n",
       "      <th>std_km_per_year</th>\n",
       "      <th>std_price</th>\n",
       "      <th>price_eur</th>\n",
       "      <th>brand</th>\n",
       "      <th>advertiser</th>\n",
       "      <th>viewed</th>\n",
       "      <th>liked</th>\n",
       "      <th>...</th>\n",
       "      <th>Kenteken</th>\n",
       "      <th>advertiser_binary</th>\n",
       "      <th>date_posted</th>\n",
       "      <th>age</th>\n",
       "      <th>old_timer</th>\n",
       "      <th>km_per_year</th>\n",
       "      <th>length_description</th>\n",
       "      <th>motorcycles_per_account</th>\n",
       "      <th>metric</th>\n",
       "      <th>count_brand_type_power</th>\n",
       "    </tr>\n",
       "  </thead>\n",
       "  <tbody>\n",
       "    <tr>\n",
       "      <th>396</th>\n",
       "      <td>https://www.2dehands.be/m1493323690</td>\n",
       "      <td>-2.167368</td>\n",
       "      <td>-1.444544</td>\n",
       "      <td>-0.544577</td>\n",
       "      <td>-2.537552</td>\n",
       "      <td>50000</td>\n",
       "      <td>Ducati</td>\n",
       "      <td>Bedrijf</td>\n",
       "      <td>1387</td>\n",
       "      <td>1</td>\n",
       "      <td>...</td>\n",
       "      <td>NaN</td>\n",
       "      <td>0</td>\n",
       "      <td>2019-12-16</td>\n",
       "      <td>5.002740</td>\n",
       "      <td>False</td>\n",
       "      <td>999.452355</td>\n",
       "      <td>188</td>\n",
       "      <td>1</td>\n",
       "      <td>-1.962910</td>\n",
       "      <td>27</td>\n",
       "    </tr>\n",
       "    <tr>\n",
       "      <th>790</th>\n",
       "      <td>https://www.2dehands.be/m1826843565</td>\n",
       "      <td>0.130927</td>\n",
       "      <td>-1.350958</td>\n",
       "      <td>-1.157550</td>\n",
       "      <td>-1.832554</td>\n",
       "      <td>50000</td>\n",
       "      <td>Ducati</td>\n",
       "      <td>Bedrijf</td>\n",
       "      <td>156</td>\n",
       "      <td>3</td>\n",
       "      <td>...</td>\n",
       "      <td>NaN</td>\n",
       "      <td>0</td>\n",
       "      <td>2022-02-04</td>\n",
       "      <td>19.013699</td>\n",
       "      <td>False</td>\n",
       "      <td>1092.948847</td>\n",
       "      <td>1169</td>\n",
       "      <td>4</td>\n",
       "      <td>-1.313333</td>\n",
       "      <td>20</td>\n",
       "    </tr>\n",
       "    <tr>\n",
       "      <th>473</th>\n",
       "      <td>https://www.2dehands.be/m1789113895</td>\n",
       "      <td>1.257491</td>\n",
       "      <td>-0.843372</td>\n",
       "      <td>-0.960410</td>\n",
       "      <td>-2.038401</td>\n",
       "      <td>0</td>\n",
       "      <td>BMW</td>\n",
       "      <td>Particulier</td>\n",
       "      <td>1642</td>\n",
       "      <td>11</td>\n",
       "      <td>...</td>\n",
       "      <td>NaN</td>\n",
       "      <td>1</td>\n",
       "      <td>2021-12-26</td>\n",
       "      <td>27.019178</td>\n",
       "      <td>True</td>\n",
       "      <td>666.193470</td>\n",
       "      <td>344</td>\n",
       "      <td>1</td>\n",
       "      <td>-1.110431</td>\n",
       "      <td>53</td>\n",
       "    </tr>\n",
       "    <tr>\n",
       "      <th>21</th>\n",
       "      <td>https://www.2dehands.be/m1830126271</td>\n",
       "      <td>-1.399791</td>\n",
       "      <td>-1.408560</td>\n",
       "      <td>-0.616541</td>\n",
       "      <td>-0.885757</td>\n",
       "      <td>285000</td>\n",
       "      <td>Honda</td>\n",
       "      <td>Particulier</td>\n",
       "      <td>247</td>\n",
       "      <td>26</td>\n",
       "      <td>...</td>\n",
       "      <td>NaN</td>\n",
       "      <td>1</td>\n",
       "      <td>2022-10-04</td>\n",
       "      <td>8.005479</td>\n",
       "      <td>False</td>\n",
       "      <td>2373.374401</td>\n",
       "      <td>533</td>\n",
       "      <td>1</td>\n",
       "      <td>-1.014836</td>\n",
       "      <td>32</td>\n",
       "    </tr>\n",
       "    <tr>\n",
       "      <th>789</th>\n",
       "      <td>https://www.2dehands.be/m1826843566</td>\n",
       "      <td>1.105055</td>\n",
       "      <td>-0.660549</td>\n",
       "      <td>-0.935233</td>\n",
       "      <td>-1.832554</td>\n",
       "      <td>50000</td>\n",
       "      <td>Ducati</td>\n",
       "      <td>Bedrijf</td>\n",
       "      <td>182</td>\n",
       "      <td>3</td>\n",
       "      <td>...</td>\n",
       "      <td>NaN</td>\n",
       "      <td>0</td>\n",
       "      <td>2022-02-04</td>\n",
       "      <td>26.019178</td>\n",
       "      <td>True</td>\n",
       "      <td>1619.113404</td>\n",
       "      <td>1168</td>\n",
       "      <td>4</td>\n",
       "      <td>-0.998229</td>\n",
       "      <td>20</td>\n",
       "    </tr>\n",
       "    <tr>\n",
       "      <th>...</th>\n",
       "      <td>...</td>\n",
       "      <td>...</td>\n",
       "      <td>...</td>\n",
       "      <td>...</td>\n",
       "      <td>...</td>\n",
       "      <td>...</td>\n",
       "      <td>...</td>\n",
       "      <td>...</td>\n",
       "      <td>...</td>\n",
       "      <td>...</td>\n",
       "      <td>...</td>\n",
       "      <td>...</td>\n",
       "      <td>...</td>\n",
       "      <td>...</td>\n",
       "      <td>...</td>\n",
       "      <td>...</td>\n",
       "      <td>...</td>\n",
       "      <td>...</td>\n",
       "      <td>...</td>\n",
       "      <td>...</td>\n",
       "      <td>...</td>\n",
       "    </tr>\n",
       "    <tr>\n",
       "      <th>63</th>\n",
       "      <td>https://www.2dehands.be/m1800654633</td>\n",
       "      <td>-1.817329</td>\n",
       "      <td>0.564317</td>\n",
       "      <td>5.137315</td>\n",
       "      <td>1.592030</td>\n",
       "      <td>900000</td>\n",
       "      <td>BMW</td>\n",
       "      <td>Particulier</td>\n",
       "      <td>1306</td>\n",
       "      <td>12</td>\n",
       "      <td>...</td>\n",
       "      <td>NaN</td>\n",
       "      <td>1</td>\n",
       "      <td>2022-01-23</td>\n",
       "      <td>5.002740</td>\n",
       "      <td>False</td>\n",
       "      <td>15991.237678</td>\n",
       "      <td>127</td>\n",
       "      <td>2</td>\n",
       "      <td>1.444694</td>\n",
       "      <td>247</td>\n",
       "    </tr>\n",
       "    <tr>\n",
       "      <th>208</th>\n",
       "      <td>https://www.2dehands.be/m1822195822</td>\n",
       "      <td>3.748572</td>\n",
       "      <td>0.274013</td>\n",
       "      <td>-0.952919</td>\n",
       "      <td>1.994519</td>\n",
       "      <td>999900</td>\n",
       "      <td>BMW</td>\n",
       "      <td>Bedrijf</td>\n",
       "      <td>227</td>\n",
       "      <td>5</td>\n",
       "      <td>...</td>\n",
       "      <td>NaN</td>\n",
       "      <td>0</td>\n",
       "      <td>2022-03-20</td>\n",
       "      <td>45.030137</td>\n",
       "      <td>True</td>\n",
       "      <td>1577.254807</td>\n",
       "      <td>2774</td>\n",
       "      <td>4</td>\n",
       "      <td>1.509894</td>\n",
       "      <td>247</td>\n",
       "    </tr>\n",
       "    <tr>\n",
       "      <th>275</th>\n",
       "      <td>https://www.2dehands.be/m1802446951</td>\n",
       "      <td>-1.399791</td>\n",
       "      <td>1.308188</td>\n",
       "      <td>3.816910</td>\n",
       "      <td>1.954633</td>\n",
       "      <td>990000</td>\n",
       "      <td>BMW</td>\n",
       "      <td>Particulier</td>\n",
       "      <td>659</td>\n",
       "      <td>6</td>\n",
       "      <td>...</td>\n",
       "      <td>NaN</td>\n",
       "      <td>1</td>\n",
       "      <td>2022-01-27</td>\n",
       "      <td>8.005479</td>\n",
       "      <td>False</td>\n",
       "      <td>12866.187543</td>\n",
       "      <td>324</td>\n",
       "      <td>1</td>\n",
       "      <td>1.599443</td>\n",
       "      <td>247</td>\n",
       "    </tr>\n",
       "    <tr>\n",
       "      <th>592</th>\n",
       "      <td>https://www.2dehands.be/m1828013903</td>\n",
       "      <td>-1.012902</td>\n",
       "      <td>4.317921</td>\n",
       "      <td>6.564793</td>\n",
       "      <td>0.114779</td>\n",
       "      <td>800000</td>\n",
       "      <td>Harley-Davidson</td>\n",
       "      <td>Particulier</td>\n",
       "      <td>1135</td>\n",
       "      <td>12</td>\n",
       "      <td>...</td>\n",
       "      <td>NaN</td>\n",
       "      <td>1</td>\n",
       "      <td>2022-04-04</td>\n",
       "      <td>8.005479</td>\n",
       "      <td>False</td>\n",
       "      <td>16988.364134</td>\n",
       "      <td>411</td>\n",
       "      <td>1</td>\n",
       "      <td>1.705648</td>\n",
       "      <td>69</td>\n",
       "    </tr>\n",
       "    <tr>\n",
       "      <th>100</th>\n",
       "      <td>https://www.2dehands.be/m1796595000</td>\n",
       "      <td>-1.399791</td>\n",
       "      <td>2.472509</td>\n",
       "      <td>5.716961</td>\n",
       "      <td>1.168993</td>\n",
       "      <td>795000</td>\n",
       "      <td>BMW</td>\n",
       "      <td>Bedrijf</td>\n",
       "      <td>2239</td>\n",
       "      <td>18</td>\n",
       "      <td>...</td>\n",
       "      <td>NaN</td>\n",
       "      <td>0</td>\n",
       "      <td>2022-01-13</td>\n",
       "      <td>8.005479</td>\n",
       "      <td>False</td>\n",
       "      <td>17363.107461</td>\n",
       "      <td>509</td>\n",
       "      <td>13</td>\n",
       "      <td>1.718373</td>\n",
       "      <td>247</td>\n",
       "    </tr>\n",
       "  </tbody>\n",
       "</table>\n",
       "<p>636 rows × 34 columns</p>\n",
       "</div>"
      ],
      "text/plain": [
       "                                      id   std_age    std_km  std_km_per_year  \\\n",
       "396  https://www.2dehands.be/m1493323690 -2.167368 -1.444544        -0.544577   \n",
       "790  https://www.2dehands.be/m1826843565  0.130927 -1.350958        -1.157550   \n",
       "473  https://www.2dehands.be/m1789113895  1.257491 -0.843372        -0.960410   \n",
       "21   https://www.2dehands.be/m1830126271 -1.399791 -1.408560        -0.616541   \n",
       "789  https://www.2dehands.be/m1826843566  1.105055 -0.660549        -0.935233   \n",
       "..                                   ...       ...       ...              ...   \n",
       "63   https://www.2dehands.be/m1800654633 -1.817329  0.564317         5.137315   \n",
       "208  https://www.2dehands.be/m1822195822  3.748572  0.274013        -0.952919   \n",
       "275  https://www.2dehands.be/m1802446951 -1.399791  1.308188         3.816910   \n",
       "592  https://www.2dehands.be/m1828013903 -1.012902  4.317921         6.564793   \n",
       "100  https://www.2dehands.be/m1796595000 -1.399791  2.472509         5.716961   \n",
       "\n",
       "     std_price  price_eur            brand   advertiser  viewed  liked  ...  \\\n",
       "396  -2.537552      50000           Ducati      Bedrijf    1387      1  ...   \n",
       "790  -1.832554      50000           Ducati      Bedrijf     156      3  ...   \n",
       "473  -2.038401          0              BMW  Particulier    1642     11  ...   \n",
       "21   -0.885757     285000            Honda  Particulier     247     26  ...   \n",
       "789  -1.832554      50000           Ducati      Bedrijf     182      3  ...   \n",
       "..         ...        ...              ...          ...     ...    ...  ...   \n",
       "63    1.592030     900000              BMW  Particulier    1306     12  ...   \n",
       "208   1.994519     999900              BMW      Bedrijf     227      5  ...   \n",
       "275   1.954633     990000              BMW  Particulier     659      6  ...   \n",
       "592   0.114779     800000  Harley-Davidson  Particulier    1135     12  ...   \n",
       "100   1.168993     795000              BMW      Bedrijf    2239     18  ...   \n",
       "\n",
       "    Kenteken advertiser_binary date_posted        age old_timer   km_per_year  \\\n",
       "396      NaN                 0  2019-12-16   5.002740     False    999.452355   \n",
       "790      NaN                 0  2022-02-04  19.013699     False   1092.948847   \n",
       "473      NaN                 1  2021-12-26  27.019178      True    666.193470   \n",
       "21       NaN                 1  2022-10-04   8.005479     False   2373.374401   \n",
       "789      NaN                 0  2022-02-04  26.019178      True   1619.113404   \n",
       "..       ...               ...         ...        ...       ...           ...   \n",
       "63       NaN                 1  2022-01-23   5.002740     False  15991.237678   \n",
       "208      NaN                 0  2022-03-20  45.030137      True   1577.254807   \n",
       "275      NaN                 1  2022-01-27   8.005479     False  12866.187543   \n",
       "592      NaN                 1  2022-04-04   8.005479     False  16988.364134   \n",
       "100      NaN                 0  2022-01-13   8.005479     False  17363.107461   \n",
       "\n",
       "    length_description motorcycles_per_account    metric  \\\n",
       "396                188                       1 -1.962910   \n",
       "790               1169                       4 -1.313333   \n",
       "473                344                       1 -1.110431   \n",
       "21                 533                       1 -1.014836   \n",
       "789               1168                       4 -0.998229   \n",
       "..                 ...                     ...       ...   \n",
       "63                 127                       2  1.444694   \n",
       "208               2774                       4  1.509894   \n",
       "275                324                       1  1.599443   \n",
       "592                411                       1  1.705648   \n",
       "100                509                      13  1.718373   \n",
       "\n",
       "    count_brand_type_power  \n",
       "396                     27  \n",
       "790                     20  \n",
       "473                     53  \n",
       "21                      32  \n",
       "789                     20  \n",
       "..                     ...  \n",
       "63                     247  \n",
       "208                    247  \n",
       "275                    247  \n",
       "592                     69  \n",
       "100                    247  \n",
       "\n",
       "[636 rows x 34 columns]"
      ]
     },
     "execution_count": 81,
     "metadata": {},
     "output_type": "execute_result"
    }
   ],
   "source": [
    "df_big"
   ]
  },
  {
   "cell_type": "code",
   "execution_count": null,
   "id": "8523f489-91ab-481a-8973-7e9fd1b83a70",
   "metadata": {},
   "outputs": [],
   "source": [
    "   import ipywidgets as widgets\n",
    "    import pandas as pd"
   ]
  },
  {
   "cell_type": "code",
   "execution_count": 84,
   "id": "d629e313-285f-4365-be9c-2ba80e44ed25",
   "metadata": {},
   "outputs": [],
   "source": [
    "df = df_big.rename(columns = {'type' : 'FieldID','power' : 'WellnameID', 'metric' : 'value' } )"
   ]
  },
  {
   "cell_type": "code",
   "execution_count": 89,
   "id": "305fb49a-189d-4988-a2e6-6fd5e408ea57",
   "metadata": {},
   "outputs": [],
   "source": [
    "  df = pd.DataFrame({'FieldID': ['A', 'A', 'A', 'B', 'B', 'B', 'B'],\n",
    "                            'WellnameID':['1_A', '1_A', '2_A', '1_B', '1_B', '2_B', '2_B'],\n",
    "                            'value': [1, 2, 3, 4, 5, 6, 7]})"
   ]
  },
  {
   "cell_type": "code",
   "execution_count": 90,
   "id": "99c14587-6189-4628-9965-405b402fce56",
   "metadata": {},
   "outputs": [
    {
     "data": {
      "application/vnd.jupyter.widget-view+json": {
       "model_id": "99d8a30f9c934c1e833d4726e9b28374",
       "version_major": 2,
       "version_minor": 0
      },
      "text/plain": [
       "HBox(children=(Dropdown(options=('A', 'B'), value='A'), Dropdown(options=('1_A', '2_A'), value='1_A')))"
      ]
     },
     "metadata": {},
     "output_type": "display_data"
    },
    {
     "data": {
      "application/vnd.jupyter.widget-view+json": {
       "model_id": "98b5b5570a214b37b6391b81f338be85",
       "version_major": 2,
       "version_minor": 0
      },
      "text/plain": [
       "Output()"
      ]
     },
     "metadata": {},
     "output_type": "display_data"
    }
   ],
   "source": [
    " \n",
    "\n",
    "    # dummy data\n",
    "  \n",
    "\n",
    "    filtered = pd.DataFrame()\n",
    "    output = widgets.Output()\n",
    "\n",
    "    dropdown_field = widgets.Dropdown(options = sorted(df.FieldID.unique()))\n",
    "    dropdown_wellname = widgets.Dropdown(options = sorted(df[df.FieldID==dropdown_field.value].WellnameID.unique()))\n",
    "\n",
    "    def common_filtering(field, wellname):\n",
    "        global filtered\n",
    "        output.clear_output()\n",
    "\n",
    "        filtered = df[(df.FieldID == field) & (df.WellnameID == wellname)]\n",
    "\n",
    "        with output:\n",
    "            display(filtered)\n",
    "\n",
    "    def dropdown_field_eventhandler(change):\n",
    "        common_filtering(change.new, dropdown_wellname.value)\n",
    "    def dropdown_wellname_eventhandler(change):\n",
    "        common_filtering(dropdown_field.value, change.new)\n",
    "\n",
    "    dropdown_field.observe(dropdown_field_eventhandler, names='value')\n",
    "    dropdown_wellname.observe(dropdown_wellname_eventhandler, names='value')\n",
    "\n",
    "    input_widgets = widgets.HBox([dropdown_field, dropdown_wellname])\n",
    "    display(input_widgets)\n",
    "    display(output)"
   ]
  },
  {
   "cell_type": "markdown",
   "id": "0f75c9cb-600e-4a1c-9b07-0c625c2f3e31",
   "metadata": {},
   "source": [
    "<h1> 3) Creating the widgets for the various dataframes </h1>\n",
    "<p> In the following subsections we will create for each dataframe some widgets such that the user can play around with the different models, brands, and types. </p>"
   ]
  },
  {
   "cell_type": "code",
   "execution_count": 70,
   "id": "7ab971a0-79fa-41fe-ac02-00a105e4a781",
   "metadata": {},
   "outputs": [],
   "source": [
    "ALL = 'ALL'\n",
    "def unique_sorted_values_plus_ALL(array):\n",
    "    unique = array.unique().tolist()\n",
    "    unique.sort()\n",
    "    unique.insert(0, ALL)\n",
    "    return unique"
   ]
  },
  {
   "cell_type": "code",
   "execution_count": 71,
   "id": "c82f9f3b-3dda-418e-bded-9a9d37cd31e4",
   "metadata": {},
   "outputs": [],
   "source": [
    "def common_filtering(brand, Type, df):\n",
    "    output.clear_output()\n",
    "    \n",
    "    if (brand == ALL) & ( Type == ALL):\n",
    "        common_filter = df\n",
    "    elif (brand == ALL):\n",
    "        common_filter = df[df.type == Type]\n",
    "    elif (Type == ALL):\n",
    "        common_filter = df[df.brand == brand]\n",
    "    else:\n",
    "        common_filter = df[(df.brand == brand) & (df.type == Type)]\n",
    "    with output:\n",
    "        display(common_filter)"
   ]
  },
  {
   "cell_type": "markdown",
   "id": "3dcea374-99e1-4b0f-821e-67e9e0383ad0",
   "metadata": {},
   "source": [
    "<h2> 3.5) Motorcycles under 11kw (Small bikes) </h2>"
   ]
  },
  {
   "cell_type": "code",
   "execution_count": 45,
   "id": "ce2c8882-e30b-4a07-8844-54de29a49fd4",
   "metadata": {},
   "outputs": [],
   "source": [
    "output = widgets.Output()"
   ]
  },
  {
   "cell_type": "code",
   "execution_count": 46,
   "id": "876a4985-2ad4-4f19-8f21-efd9a1bf619f",
   "metadata": {},
   "outputs": [],
   "source": [
    "dropdown_brand = widgets.Dropdown(options = unique_sorted_values_plus_ALL(array = df_small.brand))\n"
   ]
  },
  {
   "cell_type": "code",
   "execution_count": 47,
   "id": "8b738f26-4e77-42e0-8ce7-b9fc6627aba9",
   "metadata": {},
   "outputs": [],
   "source": [
    "dropdown_type = widgets.Dropdown(options = unique_sorted_values_plus_ALL(array = df_small.type))\n"
   ]
  },
  {
   "cell_type": "code",
   "execution_count": 48,
   "id": "57488efe-a32f-4c42-867e-cec62c9ae338",
   "metadata": {},
   "outputs": [],
   "source": [
    "def dropdown_year_eventhandler(change):\n",
    "    common_filtering(brand = change.new, Type = dropdown_type.value, df = df_small)\n",
    "def dropdown_purpose_eventhandler(change):\n",
    "    common_filtering(brand = dropdown_brand.value, Type = change.new, df = df_small)"
   ]
  },
  {
   "cell_type": "code",
   "execution_count": 49,
   "id": "e3b5450c-095a-4f99-9363-89d9db92a57b",
   "metadata": {},
   "outputs": [],
   "source": [
    "dropdown_brand.observe(dropdown_year_eventhandler, names='value')\n",
    "dropdown_type.observe(dropdown_purpose_eventhandler, names='value')"
   ]
  },
  {
   "cell_type": "code",
   "execution_count": 50,
   "id": "14109feb-2f4e-4009-8273-fdd945270746",
   "metadata": {},
   "outputs": [
    {
     "data": {
      "application/vnd.jupyter.widget-view+json": {
       "model_id": "662007cf2fc943ad881f254f88822d0e",
       "version_major": 2,
       "version_minor": 0
      },
      "text/plain": [
       "Dropdown(options=('ALL',), value='ALL')"
      ]
     },
     "metadata": {},
     "output_type": "display_data"
    },
    {
     "data": {
      "application/vnd.jupyter.widget-view+json": {
       "model_id": "224f38dc8e2c4bf89c060bc19e26ab82",
       "version_major": 2,
       "version_minor": 0
      },
      "text/plain": [
       "Dropdown(options=('ALL',), value='ALL')"
      ]
     },
     "metadata": {},
     "output_type": "display_data"
    },
    {
     "data": {
      "application/vnd.jupyter.widget-view+json": {
       "model_id": "c39ebd3ec7054c52916560a34a6f7cef",
       "version_major": 2,
       "version_minor": 0
      },
      "text/plain": [
       "Output()"
      ]
     },
     "metadata": {},
     "output_type": "display_data"
    }
   ],
   "source": [
    "display(dropdown_brand)\n",
    "display(dropdown_type)\n",
    "\n",
    "display(output)"
   ]
  },
  {
   "cell_type": "markdown",
   "id": "d16d5a77-4875-4d11-8619-554d2b6b1860",
   "metadata": {},
   "source": [
    "<h2> 3.6) Motorcycles between 11kw & 35kw (Medium bikes) </h2>"
   ]
  },
  {
   "cell_type": "code",
   "execution_count": 51,
   "id": "b8be95ba-fa87-498a-92b3-f0d5fd456052",
   "metadata": {},
   "outputs": [],
   "source": [
    "output = widgets.Output()\n",
    "dropdown_brand = widgets.Dropdown(options = unique_sorted_values_plus_ALL(df_medium.brand))\n",
    "dropdown_type = widgets.Dropdown(options = unique_sorted_values_plus_ALL(df_medium.type))"
   ]
  },
  {
   "cell_type": "code",
   "execution_count": 52,
   "id": "b7b79a95-4505-49e1-82ca-d1e8f7fc445b",
   "metadata": {},
   "outputs": [
    {
     "ename": "TypeError",
     "evalue": "common_filtering() missing 3 required positional arguments: 'brand', 'Type', and 'df'",
     "output_type": "error",
     "traceback": [
      "\u001b[1;31m---------------------------------------------------------------------------\u001b[0m",
      "\u001b[1;31mTypeError\u001b[0m                                 Traceback (most recent call last)",
      "\u001b[1;32m~\\AppData\\Local\\Temp\\ipykernel_1828\\1236550134.py\u001b[0m in \u001b[0;36m<module>\u001b[1;34m\u001b[0m\n\u001b[1;32m----> 1\u001b[1;33m \u001b[0mcommon_filtering\u001b[0m\u001b[1;33m(\u001b[0m\u001b[1;33m)\u001b[0m\u001b[1;33m\u001b[0m\u001b[1;33m\u001b[0m\u001b[0m\n\u001b[0m",
      "\u001b[1;31mTypeError\u001b[0m: common_filtering() missing 3 required positional arguments: 'brand', 'Type', and 'df'"
     ]
    }
   ],
   "source": [
    "common_filtering()"
   ]
  },
  {
   "cell_type": "code",
   "execution_count": 53,
   "id": "b9e8c70b-0044-40c4-8873-105c6ddc3358",
   "metadata": {},
   "outputs": [
    {
     "data": {
      "application/vnd.jupyter.widget-view+json": {
       "model_id": "778b0c53472e48b79777773648dac66d",
       "version_major": 2,
       "version_minor": 0
      },
      "text/plain": [
       "Dropdown(options=('ALL',), value='ALL')"
      ]
     },
     "metadata": {},
     "output_type": "display_data"
    },
    {
     "data": {
      "application/vnd.jupyter.widget-view+json": {
       "model_id": "218f5c0bcbd747d085c6d4f908f3eb56",
       "version_major": 2,
       "version_minor": 0
      },
      "text/plain": [
       "Dropdown(options=('ALL',), value='ALL')"
      ]
     },
     "metadata": {},
     "output_type": "display_data"
    },
    {
     "data": {
      "application/vnd.jupyter.widget-view+json": {
       "model_id": "77b66e511c0d45e6bbc4ff60893f894a",
       "version_major": 2,
       "version_minor": 0
      },
      "text/plain": [
       "Output()"
      ]
     },
     "metadata": {},
     "output_type": "display_data"
    }
   ],
   "source": [
    "      \n",
    "        \n",
    "def dropdown_year_eventhandler(change):\n",
    "    common_filtering(change.new, dropdown_type.value)\n",
    "def dropdown_purpose_eventhandler(change):\n",
    "    common_filtering(dropdown_brand.value, change.new)\n",
    "    \n",
    "    \n",
    "dropdown_brand.observe(dropdown_year_eventhandler, names='value')\n",
    "dropdown_type.observe(dropdown_purpose_eventhandler, names='value')\n",
    "\n",
    "display(dropdown_brand)\n",
    "display(dropdown_type)\n",
    "\n",
    "display(output)"
   ]
  },
  {
   "cell_type": "markdown",
   "id": "3e478e45-0914-4516-95bc-7aa7307ea73e",
   "metadata": {},
   "source": [
    "<h2> 3.7) Motorcycles above 35kw (Big bikes) </h2>"
   ]
  },
  {
   "cell_type": "code",
   "execution_count": 72,
   "id": "f54d39d4-50c3-4391-afdf-04b098180aa1",
   "metadata": {},
   "outputs": [
    {
     "data": {
      "application/vnd.jupyter.widget-view+json": {
       "model_id": "2f36daa494e344bd904691ea64701c83",
       "version_major": 2,
       "version_minor": 0
      },
      "text/plain": [
       "Dropdown(options=('ALL', 'BMW', 'Ducati', 'Harley-Davidson', 'Honda'), value='ALL')"
      ]
     },
     "metadata": {},
     "output_type": "display_data"
    },
    {
     "data": {
      "application/vnd.jupyter.widget-view+json": {
       "model_id": "3c10bba8f8554181a0442135d3a88250",
       "version_major": 2,
       "version_minor": 0
      },
      "text/plain": [
       "Dropdown(options=('ALL', 'Chopper', 'Enduro', 'Naked bike', 'Scooter', 'Sport', 'Super Sport', 'Toermotor'), v…"
      ]
     },
     "metadata": {},
     "output_type": "display_data"
    },
    {
     "data": {
      "application/vnd.jupyter.widget-view+json": {
       "model_id": "bec103bbaf974913bfd3f0859591a585",
       "version_major": 2,
       "version_minor": 0
      },
      "text/plain": [
       "Output()"
      ]
     },
     "metadata": {},
     "output_type": "display_data"
    }
   ],
   "source": [
    "output = widgets.Output()\n",
    "\n",
    "dropdown_brand = widgets.Dropdown(options = unique_sorted_values_plus_ALL(array = df_big.brand))\n",
    "\n",
    "dropdown_type = widgets.Dropdown(options = unique_sorted_values_plus_ALL(array = df_big.type))\n",
    "\n",
    "def dropdown_year_eventhandler(change):\n",
    "    common_filtering(brand = change.new, Type = dropdown_type.value, df = df_big)\n",
    "def dropdown_purpose_eventhandler(change):\n",
    "    common_filtering(brand = dropdown_brand.value, Type = change.new, df = df_big)\n",
    "    \n",
    "dropdown_brand.observe(dropdown_year_eventhandler, names='value')\n",
    "dropdown_type.observe(dropdown_purpose_eventhandler, names='value')\n",
    "\n",
    "display(dropdown_brand)\n",
    "display(dropdown_type)\n",
    "\n",
    "display(output)"
   ]
  },
  {
   "cell_type": "code",
   "execution_count": 73,
   "id": "298f7b46-0779-4297-8f74-de3e0667e9f7",
   "metadata": {},
   "outputs": [
    {
     "data": {
      "application/vnd.jupyter.widget-view+json": {
       "model_id": "35826e3da7e649518b2b51dc6b4fb51d",
       "version_major": 2,
       "version_minor": 0
      },
      "text/plain": [
       "Dropdown(options=('ALL', 'BMW', 'Ducati', 'Harley-Davidson', 'Honda'), value='ALL')"
      ]
     },
     "metadata": {},
     "output_type": "display_data"
    },
    {
     "data": {
      "application/vnd.jupyter.widget-view+json": {
       "model_id": "6d628d4339ad410882c59378bf7724f3",
       "version_major": 2,
       "version_minor": 0
      },
      "text/plain": [
       "Dropdown(options=('ALL', 'Chopper', 'Enduro', 'Naked bike', 'Scooter', 'Sport', 'Super Sport', 'Toermotor'), v…"
      ]
     },
     "metadata": {},
     "output_type": "display_data"
    },
    {
     "data": {
      "application/vnd.jupyter.widget-view+json": {
       "model_id": "171c69c428494e6a850f899b0c75384f",
       "version_major": 2,
       "version_minor": 0
      },
      "text/plain": [
       "Output()"
      ]
     },
     "metadata": {},
     "output_type": "display_data"
    }
   ],
   "source": [
    "\n",
    "output = widgets.Output()\n",
    "\n",
    "dropdown_brand = widgets.Dropdown(options = unique_sorted_values_plus_ALL(df_big.brand))\n",
    "\n",
    "dropdown_type = widgets.Dropdown(options = unique_sorted_values_plus_ALL(df_big.type))\n",
    "\n",
    "\n",
    "\n",
    "def common_filtering(brand, Type):\n",
    "    output.clear_output()\n",
    "    \n",
    "    if (brand == ALL) & ( Type == ALL):\n",
    "        common_filter = df_big\n",
    "    elif (brand == ALL):\n",
    "        common_filter = df_big[df_big.type == Type]\n",
    "    elif (Type == ALL):\n",
    "        common_filter = df_big[df_big.brand == brand]\n",
    "    else:\n",
    "        common_filter = df_big[(df_big.brand == brand) & (df_big.type == Type)]\n",
    "    with output:\n",
    "        display(common_filter)\n",
    "        \n",
    "        \n",
    "def dropdown_year_eventhandler(change):\n",
    "    common_filtering(change.new, dropdown_type.value)\n",
    "def dropdown_purpose_eventhandler(change):\n",
    "    common_filtering(dropdown_brand.value, change.new)\n",
    "    \n",
    "    \n",
    "dropdown_brand.observe(dropdown_year_eventhandler, names='value')\n",
    "dropdown_type.observe(dropdown_purpose_eventhandler, names='value')\n",
    "\n",
    "display(dropdown_brand)\n",
    "display(dropdown_type)\n",
    "\n",
    "display(output)"
   ]
  },
  {
   "cell_type": "markdown",
   "id": "1dc1f05a-5028-4136-a2f3-8cbc385e0a39",
   "metadata": {},
   "source": [
    "<h1> 4) Conclusion </h1>\n",
    "We have arrived at the end of the project. However, there are still a few aspects that can be improved. First of all, when collecting the data we have encountered a few failures. Consequently, the collection of data is not consistent and thus not optimal. Secondly, we should improve the extraction of the motorcycle model from the text. Thirdly, by collecting more data from different second hand website we can rely more on our results. Finally, some improvements on the widgets would be favorable for the end-user. Ideally, I would like to see a full automated process that starts with collecting the data on a weekly basis and end with an application where the user can find the good deals."
   ]
  },
  {
   "cell_type": "code",
   "execution_count": null,
   "id": "8c0f3c49-bb5f-431f-862c-ea27b5ddf39b",
   "metadata": {},
   "outputs": [],
   "source": []
  }
 ],
 "metadata": {
  "kernelspec": {
   "display_name": "Python 3",
   "language": "python",
   "name": "python3"
  },
  "language_info": {
   "codemirror_mode": {
    "name": "ipython",
    "version": 3
   },
   "file_extension": ".py",
   "mimetype": "text/x-python",
   "name": "python",
   "nbconvert_exporter": "python",
   "pygments_lexer": "ipython3",
   "version": "3.8.5"
  }
 },
 "nbformat": 4,
 "nbformat_minor": 5
}
